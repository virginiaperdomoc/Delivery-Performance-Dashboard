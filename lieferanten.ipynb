{
 "cells": [
  {
   "cell_type": "code",
   "execution_count": 29,
   "metadata": {},
   "outputs": [],
   "source": [
    "import numpy as np\n",
    "import pandas as pd\n",
    "\n",
    "import calendar\n",
    "import datetime as dt\n",
    "from collections import Counter"
   ]
  },
  {
   "cell_type": "code",
   "execution_count": 30,
   "metadata": {},
   "outputs": [
    {
     "data": {
      "text/html": [
       "<div>\n",
       "<style scoped>\n",
       "    .dataframe tbody tr th:only-of-type {\n",
       "        vertical-align: middle;\n",
       "    }\n",
       "\n",
       "    .dataframe tbody tr th {\n",
       "        vertical-align: top;\n",
       "    }\n",
       "\n",
       "    .dataframe thead th {\n",
       "        text-align: right;\n",
       "    }\n",
       "</style>\n",
       "<table border=\"1\" class=\"dataframe\">\n",
       "  <thead>\n",
       "    <tr style=\"text-align: right;\">\n",
       "      <th></th>\n",
       "      <th>Creditor No_</th>\n",
       "      <th>Datev Account No_</th>\n",
       "      <th>Fax No_</th>\n",
       "      <th>Group Vendor No_</th>\n",
       "      <th>ILN No_</th>\n",
       "      <th>No_ Series</th>\n",
       "      <th>No_</th>\n",
       "      <th>Our Account No_</th>\n",
       "      <th>Pay-to Vendor No_</th>\n",
       "      <th>Phone No_</th>\n",
       "      <th>...</th>\n",
       "      <th>Territory Code</th>\n",
       "      <th>VAT Bus_ Posting Group</th>\n",
       "      <th>Vendor Posting Group</th>\n",
       "      <th>akq Allow Payment 3rd parties</th>\n",
       "      <th>akq DTAZV Charges Rule</th>\n",
       "      <th>akq DTAZV Currency Instruction</th>\n",
       "      <th>akq Direction Code</th>\n",
       "      <th>akq Payment Type</th>\n",
       "      <th>akq Single Payment</th>\n",
       "      <th>timestamp</th>\n",
       "    </tr>\n",
       "  </thead>\n",
       "  <tbody>\n",
       "    <tr>\n",
       "      <th>0</th>\n",
       "      <td>NaN</td>\n",
       "      <td>NaN</td>\n",
       "      <td>NaN</td>\n",
       "      <td>NaN</td>\n",
       "      <td>NaN</td>\n",
       "      <td>NaN</td>\n",
       "      <td>K00001</td>\n",
       "      <td>D12638</td>\n",
       "      <td>NaN</td>\n",
       "      <td>NaN</td>\n",
       "      <td>...</td>\n",
       "      <td>NaN</td>\n",
       "      <td>IL</td>\n",
       "      <td>IC3</td>\n",
       "      <td>0</td>\n",
       "      <td>0</td>\n",
       "      <td>0</td>\n",
       "      <td>NaN</td>\n",
       "      <td>NaN</td>\n",
       "      <td>0</td>\n",
       "      <td>00000000557853B0</td>\n",
       "    </tr>\n",
       "    <tr>\n",
       "      <th>1</th>\n",
       "      <td>NaN</td>\n",
       "      <td>NaN</td>\n",
       "      <td>NaN</td>\n",
       "      <td>NaN</td>\n",
       "      <td>NaN</td>\n",
       "      <td>NaN</td>\n",
       "      <td>K00002</td>\n",
       "      <td>18295</td>\n",
       "      <td>K03838</td>\n",
       "      <td>033764 2557 00</td>\n",
       "      <td>...</td>\n",
       "      <td>NaN</td>\n",
       "      <td>IL</td>\n",
       "      <td>IL</td>\n",
       "      <td>0</td>\n",
       "      <td>0</td>\n",
       "      <td>0</td>\n",
       "      <td>NaN</td>\n",
       "      <td>NaN</td>\n",
       "      <td>0</td>\n",
       "      <td>00000000594C7FBD</td>\n",
       "    </tr>\n",
       "    <tr>\n",
       "      <th>2</th>\n",
       "      <td>NaN</td>\n",
       "      <td>NaN</td>\n",
       "      <td>+49 30 814547-890</td>\n",
       "      <td>NaN</td>\n",
       "      <td>NaN</td>\n",
       "      <td>NaN</td>\n",
       "      <td>K00004</td>\n",
       "      <td>d12638</td>\n",
       "      <td>NaN</td>\n",
       "      <td>+49 30 814547-100</td>\n",
       "      <td>...</td>\n",
       "      <td>NaN</td>\n",
       "      <td>IL</td>\n",
       "      <td>IC4</td>\n",
       "      <td>0</td>\n",
       "      <td>0</td>\n",
       "      <td>0</td>\n",
       "      <td>NaN</td>\n",
       "      <td>NaN</td>\n",
       "      <td>0</td>\n",
       "      <td>00000000556C6548</td>\n",
       "    </tr>\n",
       "    <tr>\n",
       "      <th>3</th>\n",
       "      <td>NaN</td>\n",
       "      <td>NaN</td>\n",
       "      <td>089 359 6183</td>\n",
       "      <td>NaN</td>\n",
       "      <td>NaN</td>\n",
       "      <td>NaN</td>\n",
       "      <td>K00006</td>\n",
       "      <td>20621</td>\n",
       "      <td>NaN</td>\n",
       "      <td>089 359 0031/32</td>\n",
       "      <td>...</td>\n",
       "      <td>NaN</td>\n",
       "      <td>IL</td>\n",
       "      <td>IL</td>\n",
       "      <td>0</td>\n",
       "      <td>0</td>\n",
       "      <td>0</td>\n",
       "      <td>NaN</td>\n",
       "      <td>NaN</td>\n",
       "      <td>0</td>\n",
       "      <td>0000000053C3DDF4</td>\n",
       "    </tr>\n",
       "    <tr>\n",
       "      <th>4</th>\n",
       "      <td>NaN</td>\n",
       "      <td>NaN</td>\n",
       "      <td>0041-61785-5188</td>\n",
       "      <td>NaN</td>\n",
       "      <td>NaN</td>\n",
       "      <td>NaN</td>\n",
       "      <td>K00010</td>\n",
       "      <td>NaN</td>\n",
       "      <td>NaN</td>\n",
       "      <td>0041-61785-5271</td>\n",
       "      <td>...</td>\n",
       "      <td>NaN</td>\n",
       "      <td>IL</td>\n",
       "      <td>AL</td>\n",
       "      <td>0</td>\n",
       "      <td>0</td>\n",
       "      <td>0</td>\n",
       "      <td>NaN</td>\n",
       "      <td>NaN</td>\n",
       "      <td>0</td>\n",
       "      <td>0000000053C3DDF9</td>\n",
       "    </tr>\n",
       "  </tbody>\n",
       "</table>\n",
       "<p>5 rows × 90 columns</p>\n",
       "</div>"
      ],
      "text/plain": [
       "   Creditor No_  Datev Account No_            Fax No_  Group Vendor No_  \\\n",
       "0           NaN                NaN                NaN               NaN   \n",
       "1           NaN                NaN                NaN               NaN   \n",
       "2           NaN                NaN  +49 30 814547-890               NaN   \n",
       "3           NaN                NaN       089 359 6183               NaN   \n",
       "4           NaN                NaN    0041-61785-5188               NaN   \n",
       "\n",
       "   ILN No_ No_ Series     No_ Our Account No_ Pay-to Vendor No_  \\\n",
       "0      NaN        NaN  K00001          D12638               NaN   \n",
       "1      NaN        NaN  K00002           18295            K03838   \n",
       "2      NaN        NaN  K00004          d12638               NaN   \n",
       "3      NaN        NaN  K00006           20621               NaN   \n",
       "4      NaN        NaN  K00010             NaN               NaN   \n",
       "\n",
       "           Phone No_  ... Territory Code VAT Bus_ Posting Group  \\\n",
       "0                NaN  ...            NaN                     IL   \n",
       "1     033764 2557 00  ...            NaN                     IL   \n",
       "2  +49 30 814547-100  ...            NaN                     IL   \n",
       "3    089 359 0031/32  ...            NaN                     IL   \n",
       "4    0041-61785-5271  ...            NaN                     IL   \n",
       "\n",
       "  Vendor Posting Group akq Allow Payment 3rd parties  akq DTAZV Charges Rule  \\\n",
       "0                  IC3                             0                       0   \n",
       "1                   IL                             0                       0   \n",
       "2                  IC4                             0                       0   \n",
       "3                   IL                             0                       0   \n",
       "4                   AL                             0                       0   \n",
       "\n",
       "   akq DTAZV Currency Instruction  akq Direction Code akq Payment Type  \\\n",
       "0                               0                 NaN              NaN   \n",
       "1                               0                 NaN              NaN   \n",
       "2                               0                 NaN              NaN   \n",
       "3                               0                 NaN              NaN   \n",
       "4                               0                 NaN              NaN   \n",
       "\n",
       "  akq Single Payment         timestamp  \n",
       "0                  0  00000000557853B0  \n",
       "1                  0  00000000594C7FBD  \n",
       "2                  0  00000000556C6548  \n",
       "3                  0  0000000053C3DDF4  \n",
       "4                  0  0000000053C3DDF9  \n",
       "\n",
       "[5 rows x 90 columns]"
      ]
     },
     "execution_count": 30,
     "metadata": {},
     "output_type": "execute_result"
    }
   ],
   "source": [
    "lieferanten = pd.read_csv(r'Lieferanten.csv', on_bad_lines='skip', sep=';')\n",
    "lieferanten.head()"
   ]
  },
  {
   "cell_type": "code",
   "execution_count": 31,
   "metadata": {},
   "outputs": [
    {
     "data": {
      "text/plain": [
       "(2411, 90)"
      ]
     },
     "execution_count": 31,
     "metadata": {},
     "output_type": "execute_result"
    }
   ],
   "source": [
    "lieferanten.shape"
   ]
  },
  {
   "cell_type": "code",
   "execution_count": 32,
   "metadata": {},
   "outputs": [
    {
     "data": {
      "text/plain": [
       "(2411, 71)"
      ]
     },
     "execution_count": 32,
     "metadata": {},
     "output_type": "execute_result"
    }
   ],
   "source": [
    "# drop columns where all NaN values\n",
    "lieferanten=lieferanten.dropna(axis=1, how='all')\n",
    "lieferanten.shape"
   ]
  },
  {
   "cell_type": "code",
   "execution_count": 33,
   "metadata": {},
   "outputs": [
    {
     "data": {
      "text/plain": [
       "(2411, 56)"
      ]
     },
     "execution_count": 33,
     "metadata": {},
     "output_type": "execute_result"
    }
   ],
   "source": [
    "# drop columns where all 0 values\n",
    "lieferanten=lieferanten.loc[:, (lieferanten != 0).any(axis=0)]\n",
    "lieferanten.shape"
   ]
  },
  {
   "cell_type": "code",
   "execution_count": 34,
   "metadata": {},
   "outputs": [
    {
     "data": {
      "text/plain": [
       "(2411, 39)"
      ]
     },
     "execution_count": 34,
     "metadata": {},
     "output_type": "execute_result"
    }
   ],
   "source": [
    "# drop columns where over 50% of values are null values\n",
    "lieferanten=lieferanten.loc[:, lieferanten.isnull().mean()<0.5]\n",
    "lieferanten.shape"
   ]
  },
  {
   "cell_type": "code",
   "execution_count": 35,
   "metadata": {},
   "outputs": [
    {
     "data": {
      "text/plain": [
       "['Fax No_',\n",
       " 'No_ Series',\n",
       " 'No_',\n",
       " 'Our Account No_',\n",
       " 'Phone No_',\n",
       " 'akq No_ of Entries Paym_ Adv_',\n",
       " 'Address',\n",
       " 'Base Calendar Code',\n",
       " 'Blocked',\n",
       " 'Budgeted Amount',\n",
       " 'City',\n",
       " 'Currency Id',\n",
       " 'Datev Export Date',\n",
       " 'E-Mail',\n",
       " 'Gen_ Bus_ Posting Group',\n",
       " 'Home Page',\n",
       " 'Id',\n",
       " 'Image',\n",
       " 'Invoice Disc_ Code',\n",
       " 'Last Date Modified',\n",
       " 'Last Modified Date Time',\n",
       " 'Location Code',\n",
       " 'Name',\n",
       " 'Partner Type',\n",
       " 'Payment Method Code',\n",
       " 'Payment Method Id',\n",
       " 'Payment Terms Code',\n",
       " 'Payment Terms Id',\n",
       " 'Post Code',\n",
       " 'Preferred Bank Account Code',\n",
       " 'Prepayment _',\n",
       " 'Privacy Blocked',\n",
       " 'Release Until',\n",
       " 'Search Name',\n",
       " 'Shipment Method Code',\n",
       " 'VAT Bus_ Posting Group',\n",
       " 'Vendor Posting Group',\n",
       " 'akq Single Payment',\n",
       " 'timestamp']"
      ]
     },
     "execution_count": 35,
     "metadata": {},
     "output_type": "execute_result"
    }
   ],
   "source": [
    "# get list with column names\n",
    "list(lieferanten.columns)"
   ]
  },
  {
   "cell_type": "code",
   "execution_count": 36,
   "metadata": {},
   "outputs": [],
   "source": [
    "# drop columns that don't seem relevant to our challenge\n",
    "to_drop=['Fax No_', 'No_ Series', 'Our Account No_', 'Phone No_', 'akq No_ of Entries Paym_ Adv_',\n",
    " 'Address', 'Base Calendar Code', 'Blocked', 'Budgeted Amount', 'Currency Id', 'Datev Export Date',\n",
    " 'E-Mail', 'Gen_ Bus_ Posting Group', 'Home Page', 'Image', 'Invoice Disc_ Code', 'Name', 'Partner Type',\n",
    " 'Payment Method Code', 'Payment Method Id', 'Payment Terms Code', 'Payment Terms Id', \n",
    " 'Preferred Bank Account Code', 'Prepayment _', 'Privacy Blocked', 'Release Until', 'VAT Bus_ Posting Group','akq Single Payment', 'timestamp',\n",
    " 'Last Modified Date Time', 'Id','Shipment Method Code','Vendor Posting Group']\n",
    "lieferanten.drop(to_drop, inplace=True, axis=1)"
   ]
  },
  {
   "cell_type": "code",
   "execution_count": 37,
   "metadata": {},
   "outputs": [
    {
     "data": {
      "text/html": [
       "<div>\n",
       "<style scoped>\n",
       "    .dataframe tbody tr th:only-of-type {\n",
       "        vertical-align: middle;\n",
       "    }\n",
       "\n",
       "    .dataframe tbody tr th {\n",
       "        vertical-align: top;\n",
       "    }\n",
       "\n",
       "    .dataframe thead th {\n",
       "        text-align: right;\n",
       "    }\n",
       "</style>\n",
       "<table border=\"1\" class=\"dataframe\">\n",
       "  <thead>\n",
       "    <tr style=\"text-align: right;\">\n",
       "      <th></th>\n",
       "      <th>No_</th>\n",
       "      <th>City</th>\n",
       "      <th>Last Date Modified</th>\n",
       "      <th>Location Code</th>\n",
       "      <th>Post Code</th>\n",
       "      <th>Search Name</th>\n",
       "    </tr>\n",
       "  </thead>\n",
       "  <tbody>\n",
       "    <tr>\n",
       "      <th>0</th>\n",
       "      <td>K00001</td>\n",
       "      <td>Berlin</td>\n",
       "      <td>17.09.2020 00:00:00</td>\n",
       "      <td>NaN</td>\n",
       "      <td>12487</td>\n",
       "      <td>DIMIDIA INDUSTRIE HOLDING GMBH</td>\n",
       "    </tr>\n",
       "    <tr>\n",
       "      <th>1</th>\n",
       "      <td>K00002</td>\n",
       "      <td>Mittenwalde</td>\n",
       "      <td>20.10.2021 00:00:00</td>\n",
       "      <td>A-01</td>\n",
       "      <td>15749</td>\n",
       "      <td>ALPHA/ LTE</td>\n",
       "    </tr>\n",
       "    <tr>\n",
       "      <th>2</th>\n",
       "      <td>K00004</td>\n",
       "      <td>Berlin</td>\n",
       "      <td>11.09.2020 00:00:00</td>\n",
       "      <td>NaN</td>\n",
       "      <td>12487</td>\n",
       "      <td>DIMIDIA IMMOBILIEN GMBH</td>\n",
       "    </tr>\n",
       "    <tr>\n",
       "      <th>3</th>\n",
       "      <td>K00006</td>\n",
       "      <td>München</td>\n",
       "      <td>21.02.2020 00:00:00</td>\n",
       "      <td>A-01</td>\n",
       "      <td>80807</td>\n",
       "      <td>STEFAN MAIER GMBH</td>\n",
       "    </tr>\n",
       "    <tr>\n",
       "      <th>4</th>\n",
       "      <td>K00010</td>\n",
       "      <td>Breitenbach</td>\n",
       "      <td>21.02.2020 00:00:00</td>\n",
       "      <td>A-01</td>\n",
       "      <td>CH-4226</td>\n",
       "      <td>#VON ROLL ISOLA TROISDORF</td>\n",
       "    </tr>\n",
       "  </tbody>\n",
       "</table>\n",
       "</div>"
      ],
      "text/plain": [
       "      No_         City   Last Date Modified Location Code Post Code  \\\n",
       "0  K00001       Berlin  17.09.2020 00:00:00           NaN     12487   \n",
       "1  K00002  Mittenwalde  20.10.2021 00:00:00          A-01     15749   \n",
       "2  K00004       Berlin  11.09.2020 00:00:00           NaN     12487   \n",
       "3  K00006      München  21.02.2020 00:00:00          A-01     80807   \n",
       "4  K00010  Breitenbach  21.02.2020 00:00:00          A-01   CH-4226   \n",
       "\n",
       "                      Search Name  \n",
       "0  DIMIDIA INDUSTRIE HOLDING GMBH  \n",
       "1                      ALPHA/ LTE  \n",
       "2         DIMIDIA IMMOBILIEN GMBH  \n",
       "3               STEFAN MAIER GMBH  \n",
       "4       #VON ROLL ISOLA TROISDORF  "
      ]
     },
     "execution_count": 37,
     "metadata": {},
     "output_type": "execute_result"
    }
   ],
   "source": [
    "lieferanten.head()"
   ]
  },
  {
   "cell_type": "code",
   "execution_count": 38,
   "metadata": {},
   "outputs": [
    {
     "data": {
      "text/plain": [
       "['provider_no',\n",
       " 'city',\n",
       " 'last_date_modified',\n",
       " 'location_code',\n",
       " 'post_code',\n",
       " 'search_name']"
      ]
     },
     "execution_count": 38,
     "metadata": {},
     "output_type": "execute_result"
    }
   ],
   "source": [
    "lieferanten.columns = lieferanten.columns.str.replace(\" \", \"_\").str.lower()\n",
    "lieferanten=lieferanten.rename(columns={\"no_\": \"provider_no\"})\n",
    "list(lieferanten.columns)"
   ]
  },
  {
   "cell_type": "code",
   "execution_count": 39,
   "metadata": {},
   "outputs": [
    {
     "data": {
      "text/plain": [
       "provider_no                   object\n",
       "city                          object\n",
       "last_date_modified    datetime64[ns]\n",
       "location_code                 object\n",
       "post_code                     object\n",
       "search_name                   object\n",
       "dtype: object"
      ]
     },
     "execution_count": 39,
     "metadata": {},
     "output_type": "execute_result"
    }
   ],
   "source": [
    "lieferanten.last_date_modified=pd.to_datetime(lieferanten.last_date_modified).dt.date\n",
    "lieferanten.last_date_modified=pd.to_datetime(lieferanten.last_date_modified)\n",
    "lieferanten.dtypes"
   ]
  },
  {
   "cell_type": "code",
   "execution_count": 40,
   "metadata": {},
   "outputs": [
    {
     "data": {
      "text/html": [
       "<div>\n",
       "<style scoped>\n",
       "    .dataframe tbody tr th:only-of-type {\n",
       "        vertical-align: middle;\n",
       "    }\n",
       "\n",
       "    .dataframe tbody tr th {\n",
       "        vertical-align: top;\n",
       "    }\n",
       "\n",
       "    .dataframe thead th {\n",
       "        text-align: right;\n",
       "    }\n",
       "</style>\n",
       "<table border=\"1\" class=\"dataframe\">\n",
       "  <thead>\n",
       "    <tr style=\"text-align: right;\">\n",
       "      <th></th>\n",
       "      <th>provider_no</th>\n",
       "      <th>city</th>\n",
       "      <th>last_date_modified</th>\n",
       "      <th>location_code</th>\n",
       "      <th>post_code</th>\n",
       "      <th>search_name</th>\n",
       "    </tr>\n",
       "  </thead>\n",
       "  <tbody>\n",
       "    <tr>\n",
       "      <th>1279</th>\n",
       "      <td>K03602</td>\n",
       "      <td>Hannover</td>\n",
       "      <td>2021-02-11</td>\n",
       "      <td>NaN</td>\n",
       "      <td>30401</td>\n",
       "      <td># HANOMAG HÄRTECENTER GMBH</td>\n",
       "    </tr>\n",
       "    <tr>\n",
       "      <th>1883</th>\n",
       "      <td>K04410</td>\n",
       "      <td>Köln</td>\n",
       "      <td>2020-03-19</td>\n",
       "      <td>A-01</td>\n",
       "      <td>50672</td>\n",
       "      <td>#ABCFINANCE GMBH F. K.KAUFFMANN</td>\n",
       "    </tr>\n",
       "    <tr>\n",
       "      <th>1921</th>\n",
       "      <td>K04455</td>\n",
       "      <td>Weissach</td>\n",
       "      <td>2020-02-21</td>\n",
       "      <td>A-01</td>\n",
       "      <td>71287</td>\n",
       "      <td>#ABE - DRUCKÜBERTRÄGER#</td>\n",
       "    </tr>\n",
       "    <tr>\n",
       "      <th>1502</th>\n",
       "      <td>K03931</td>\n",
       "      <td>Dietzenbach</td>\n",
       "      <td>2020-01-25</td>\n",
       "      <td>NaN</td>\n",
       "      <td>63128</td>\n",
       "      <td>#ACAL GMBH#</td>\n",
       "    </tr>\n",
       "    <tr>\n",
       "      <th>1435</th>\n",
       "      <td>K03841</td>\n",
       "      <td>Gröbenzell</td>\n",
       "      <td>2020-01-25</td>\n",
       "      <td>NaN</td>\n",
       "      <td>82194</td>\n",
       "      <td>#ACAL GMBH#</td>\n",
       "    </tr>\n",
       "    <tr>\n",
       "      <th>952</th>\n",
       "      <td>K03164</td>\n",
       "      <td>Freiburg</td>\n",
       "      <td>2020-02-21</td>\n",
       "      <td>A-01</td>\n",
       "      <td>79111</td>\n",
       "      <td>#ADVANTEK -FALSCHER KRED.-</td>\n",
       "    </tr>\n",
       "    <tr>\n",
       "      <th>380</th>\n",
       "      <td>K01368</td>\n",
       "      <td>Bochum</td>\n",
       "      <td>2020-02-21</td>\n",
       "      <td>A-01</td>\n",
       "      <td>44807</td>\n",
       "      <td>#AIR PRODUCTS GMBH#</td>\n",
       "    </tr>\n",
       "    <tr>\n",
       "      <th>1900</th>\n",
       "      <td>K04433</td>\n",
       "      <td>Wriezen</td>\n",
       "      <td>2020-02-21</td>\n",
       "      <td>A-01</td>\n",
       "      <td>16269</td>\n",
       "      <td>#ALBA SÜDOST-BRANDENBURG GMBH#</td>\n",
       "    </tr>\n",
       "    <tr>\n",
       "      <th>1431</th>\n",
       "      <td>K03835</td>\n",
       "      <td>Stockach</td>\n",
       "      <td>2020-01-25</td>\n",
       "      <td>NaN</td>\n",
       "      <td>78333</td>\n",
       "      <td>#ALKA GMBH  RETZA#</td>\n",
       "    </tr>\n",
       "    <tr>\n",
       "      <th>1135</th>\n",
       "      <td>K03430</td>\n",
       "      <td>Pforzheim</td>\n",
       "      <td>2020-02-21</td>\n",
       "      <td>A-01</td>\n",
       "      <td>75181</td>\n",
       "      <td>#AMI DODUCO EU</td>\n",
       "    </tr>\n",
       "    <tr>\n",
       "      <th>691</th>\n",
       "      <td>K02665</td>\n",
       "      <td>Mainz</td>\n",
       "      <td>2020-02-21</td>\n",
       "      <td>A-01</td>\n",
       "      <td>55124</td>\n",
       "      <td>#ANALOG MICROELECTRONICS GMBH#</td>\n",
       "    </tr>\n",
       "    <tr>\n",
       "      <th>2189</th>\n",
       "      <td>K04737</td>\n",
       "      <td>Fellbach</td>\n",
       "      <td>2020-01-25</td>\n",
       "      <td>NaN</td>\n",
       "      <td>70736</td>\n",
       "      <td>#ANTECH GÜTLING SERVICE GMBH#</td>\n",
       "    </tr>\n",
       "    <tr>\n",
       "      <th>1995</th>\n",
       "      <td>K04530</td>\n",
       "      <td>Neu-Isenburg</td>\n",
       "      <td>2020-01-25</td>\n",
       "      <td>NaN</td>\n",
       "      <td>63263</td>\n",
       "      <td>#ARROW CENTRAL EUROPE GMBH</td>\n",
       "    </tr>\n",
       "    <tr>\n",
       "      <th>976</th>\n",
       "      <td>K03211</td>\n",
       "      <td>Trappenkamp</td>\n",
       "      <td>2020-02-21</td>\n",
       "      <td>A-01</td>\n",
       "      <td>24610</td>\n",
       "      <td>#ARTHUR PREDIGER#</td>\n",
       "    </tr>\n",
       "    <tr>\n",
       "      <th>1927</th>\n",
       "      <td>K04462</td>\n",
       "      <td>Syke</td>\n",
       "      <td>2020-02-21</td>\n",
       "      <td>A-01</td>\n",
       "      <td>28857</td>\n",
       "      <td>#BALKHAUSEN#</td>\n",
       "    </tr>\n",
       "    <tr>\n",
       "      <th>1402</th>\n",
       "      <td>K03797</td>\n",
       "      <td>Mühlacker</td>\n",
       "      <td>2020-02-21</td>\n",
       "      <td>A-01</td>\n",
       "      <td>75417</td>\n",
       "      <td>#BERNECKER UMFORMTECHNIK GMBH#</td>\n",
       "    </tr>\n",
       "    <tr>\n",
       "      <th>1888</th>\n",
       "      <td>K04419</td>\n",
       "      <td>Laatzen</td>\n",
       "      <td>2020-01-25</td>\n",
       "      <td>B-01</td>\n",
       "      <td>30880</td>\n",
       "      <td>#BOSCH REXROTH PNEUMATICS GMB#</td>\n",
       "    </tr>\n",
       "    <tr>\n",
       "      <th>1242</th>\n",
       "      <td>K03549</td>\n",
       "      <td>Bayreuth</td>\n",
       "      <td>2020-01-25</td>\n",
       "      <td>NaN</td>\n",
       "      <td>95444</td>\n",
       "      <td>#BURKHARDT GMBH#</td>\n",
       "    </tr>\n",
       "    <tr>\n",
       "      <th>1079</th>\n",
       "      <td>K03360</td>\n",
       "      <td>Düsseldorf</td>\n",
       "      <td>2020-01-25</td>\n",
       "      <td>B-01</td>\n",
       "      <td>40549</td>\n",
       "      <td>#BÖHLER</td>\n",
       "    </tr>\n",
       "    <tr>\n",
       "      <th>164</th>\n",
       "      <td>K00592</td>\n",
       "      <td>Düsseldorf</td>\n",
       "      <td>2020-02-21</td>\n",
       "      <td>A-01</td>\n",
       "      <td>40008</td>\n",
       "      <td>#BÜRKLIN OHG DÜSSELDORF</td>\n",
       "    </tr>\n",
       "  </tbody>\n",
       "</table>\n",
       "</div>"
      ],
      "text/plain": [
       "     provider_no          city last_date_modified location_code post_code  \\\n",
       "1279      K03602      Hannover         2021-02-11           NaN     30401   \n",
       "1883      K04410          Köln         2020-03-19          A-01     50672   \n",
       "1921      K04455      Weissach         2020-02-21          A-01     71287   \n",
       "1502      K03931   Dietzenbach         2020-01-25           NaN     63128   \n",
       "1435      K03841    Gröbenzell         2020-01-25           NaN     82194   \n",
       "952       K03164      Freiburg         2020-02-21          A-01     79111   \n",
       "380       K01368        Bochum         2020-02-21          A-01     44807   \n",
       "1900      K04433       Wriezen         2020-02-21          A-01     16269   \n",
       "1431      K03835      Stockach         2020-01-25           NaN     78333   \n",
       "1135      K03430     Pforzheim         2020-02-21          A-01     75181   \n",
       "691       K02665         Mainz         2020-02-21          A-01     55124   \n",
       "2189      K04737      Fellbach         2020-01-25           NaN     70736   \n",
       "1995      K04530  Neu-Isenburg         2020-01-25           NaN     63263   \n",
       "976       K03211   Trappenkamp         2020-02-21          A-01     24610   \n",
       "1927      K04462          Syke         2020-02-21          A-01     28857   \n",
       "1402      K03797     Mühlacker         2020-02-21          A-01     75417   \n",
       "1888      K04419       Laatzen         2020-01-25          B-01     30880   \n",
       "1242      K03549      Bayreuth         2020-01-25           NaN     95444   \n",
       "1079      K03360    Düsseldorf         2020-01-25          B-01     40549   \n",
       "164       K00592    Düsseldorf         2020-02-21          A-01     40008   \n",
       "\n",
       "                          search_name  \n",
       "1279       # HANOMAG HÄRTECENTER GMBH  \n",
       "1883  #ABCFINANCE GMBH F. K.KAUFFMANN  \n",
       "1921          #ABE - DRUCKÜBERTRÄGER#  \n",
       "1502                      #ACAL GMBH#  \n",
       "1435                      #ACAL GMBH#  \n",
       "952        #ADVANTEK -FALSCHER KRED.-  \n",
       "380               #AIR PRODUCTS GMBH#  \n",
       "1900   #ALBA SÜDOST-BRANDENBURG GMBH#  \n",
       "1431               #ALKA GMBH  RETZA#  \n",
       "1135                   #AMI DODUCO EU  \n",
       "691    #ANALOG MICROELECTRONICS GMBH#  \n",
       "2189    #ANTECH GÜTLING SERVICE GMBH#  \n",
       "1995       #ARROW CENTRAL EUROPE GMBH  \n",
       "976                 #ARTHUR PREDIGER#  \n",
       "1927                     #BALKHAUSEN#  \n",
       "1402   #BERNECKER UMFORMTECHNIK GMBH#  \n",
       "1888   #BOSCH REXROTH PNEUMATICS GMB#  \n",
       "1242                 #BURKHARDT GMBH#  \n",
       "1079                          #BÖHLER  \n",
       "164           #BÜRKLIN OHG DÜSSELDORF  "
      ]
     },
     "execution_count": 40,
     "metadata": {},
     "output_type": "execute_result"
    }
   ],
   "source": [
    "lieferanten.sort_values(by='search_name', ascending=True).head(20)"
   ]
  },
  {
   "cell_type": "code",
   "execution_count": 41,
   "metadata": {},
   "outputs": [],
   "source": [
    "# some labels in the search_name column have unwanted characters. we will drop them\n",
    "lieferanten.search_name = lieferanten.search_name.str.replace(\"#\", \"\")"
   ]
  },
  {
   "cell_type": "code",
   "execution_count": 42,
   "metadata": {},
   "outputs": [
    {
     "data": {
      "text/plain": [
       "provider_no             0\n",
       "city                   39\n",
       "last_date_modified      0\n",
       "location_code         569\n",
       "post_code              40\n",
       "search_name             0\n",
       "dtype: int64"
      ]
     },
     "execution_count": 42,
     "metadata": {},
     "output_type": "execute_result"
    }
   ],
   "source": [
    "lieferanten.isna().sum()"
   ]
  },
  {
   "cell_type": "code",
   "execution_count": 43,
   "metadata": {},
   "outputs": [
    {
     "data": {
      "text/plain": [
       "(1838, 6)"
      ]
     },
     "execution_count": 43,
     "metadata": {},
     "output_type": "execute_result"
    }
   ],
   "source": [
    "# drop rows with nan values\n",
    "lieferanten = lieferanten.dropna()\n",
    "lieferanten.shape"
   ]
  },
  {
   "cell_type": "code",
   "execution_count": 44,
   "metadata": {},
   "outputs": [
    {
     "data": {
      "text/plain": [
       "(1838, 6)"
      ]
     },
     "execution_count": 44,
     "metadata": {},
     "output_type": "execute_result"
    }
   ],
   "source": [
    "# drop duplicates\n",
    "lieferanten.drop_duplicates(keep='first')\n",
    "lieferanten.shape"
   ]
  },
  {
   "cell_type": "code",
   "execution_count": 45,
   "metadata": {},
   "outputs": [],
   "source": [
    "# export as csv file\n",
    "lieferanten.to_csv(r'lieferanten_clean.csv', index=False);"
   ]
  }
 ],
 "metadata": {
  "interpreter": {
   "hash": "b1875529cefe42ecd6a8c244c5d3382570dbd3583e24ee890d745390ff6ff538"
  },
  "kernelspec": {
   "display_name": "Python 3.9.7 ('base')",
   "language": "python",
   "name": "python3"
  },
  "language_info": {
   "codemirror_mode": {
    "name": "ipython",
    "version": 3
   },
   "file_extension": ".py",
   "mimetype": "text/x-python",
   "name": "python",
   "nbconvert_exporter": "python",
   "pygments_lexer": "ipython3",
   "version": "3.9.7"
  },
  "orig_nbformat": 4
 },
 "nbformat": 4,
 "nbformat_minor": 2
}
