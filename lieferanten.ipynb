{
 "cells": [
  {
   "cell_type": "code",
   "execution_count": 1,
   "metadata": {},
   "outputs": [],
   "source": [
    "import numpy as np\n",
    "import pandas as pd\n",
    "\n",
    "import calendar\n",
    "import datetime as dt\n",
    "from collections import Counter"
   ]
  },
  {
   "cell_type": "code",
   "execution_count": 2,
   "metadata": {},
   "outputs": [
    {
     "data": {
      "text/html": [
       "<div>\n",
       "<style scoped>\n",
       "    .dataframe tbody tr th:only-of-type {\n",
       "        vertical-align: middle;\n",
       "    }\n",
       "\n",
       "    .dataframe tbody tr th {\n",
       "        vertical-align: top;\n",
       "    }\n",
       "\n",
       "    .dataframe thead th {\n",
       "        text-align: right;\n",
       "    }\n",
       "</style>\n",
       "<table border=\"1\" class=\"dataframe\">\n",
       "  <thead>\n",
       "    <tr style=\"text-align: right;\">\n",
       "      <th></th>\n",
       "      <th>Creditor No_</th>\n",
       "      <th>Datev Account No_</th>\n",
       "      <th>Fax No_</th>\n",
       "      <th>Group Vendor No_</th>\n",
       "      <th>ILN No_</th>\n",
       "      <th>No_ Series</th>\n",
       "      <th>No_</th>\n",
       "      <th>Our Account No_</th>\n",
       "      <th>Pay-to Vendor No_</th>\n",
       "      <th>Phone No_</th>\n",
       "      <th>...</th>\n",
       "      <th>Territory Code</th>\n",
       "      <th>VAT Bus_ Posting Group</th>\n",
       "      <th>Vendor Posting Group</th>\n",
       "      <th>akq Allow Payment 3rd parties</th>\n",
       "      <th>akq DTAZV Charges Rule</th>\n",
       "      <th>akq DTAZV Currency Instruction</th>\n",
       "      <th>akq Direction Code</th>\n",
       "      <th>akq Payment Type</th>\n",
       "      <th>akq Single Payment</th>\n",
       "      <th>timestamp</th>\n",
       "    </tr>\n",
       "  </thead>\n",
       "  <tbody>\n",
       "    <tr>\n",
       "      <th>0</th>\n",
       "      <td>NaN</td>\n",
       "      <td>NaN</td>\n",
       "      <td>NaN</td>\n",
       "      <td>NaN</td>\n",
       "      <td>NaN</td>\n",
       "      <td>NaN</td>\n",
       "      <td>K00001</td>\n",
       "      <td>D12638</td>\n",
       "      <td>NaN</td>\n",
       "      <td>NaN</td>\n",
       "      <td>...</td>\n",
       "      <td>NaN</td>\n",
       "      <td>IL</td>\n",
       "      <td>IC3</td>\n",
       "      <td>0</td>\n",
       "      <td>0</td>\n",
       "      <td>0</td>\n",
       "      <td>NaN</td>\n",
       "      <td>NaN</td>\n",
       "      <td>0</td>\n",
       "      <td>00000000557853B0</td>\n",
       "    </tr>\n",
       "    <tr>\n",
       "      <th>1</th>\n",
       "      <td>NaN</td>\n",
       "      <td>NaN</td>\n",
       "      <td>NaN</td>\n",
       "      <td>NaN</td>\n",
       "      <td>NaN</td>\n",
       "      <td>NaN</td>\n",
       "      <td>K00002</td>\n",
       "      <td>18295</td>\n",
       "      <td>K03838</td>\n",
       "      <td>033764 2557 00</td>\n",
       "      <td>...</td>\n",
       "      <td>NaN</td>\n",
       "      <td>IL</td>\n",
       "      <td>IL</td>\n",
       "      <td>0</td>\n",
       "      <td>0</td>\n",
       "      <td>0</td>\n",
       "      <td>NaN</td>\n",
       "      <td>NaN</td>\n",
       "      <td>0</td>\n",
       "      <td>00000000594C7FBD</td>\n",
       "    </tr>\n",
       "    <tr>\n",
       "      <th>2</th>\n",
       "      <td>NaN</td>\n",
       "      <td>NaN</td>\n",
       "      <td>+49 30 814547-890</td>\n",
       "      <td>NaN</td>\n",
       "      <td>NaN</td>\n",
       "      <td>NaN</td>\n",
       "      <td>K00004</td>\n",
       "      <td>d12638</td>\n",
       "      <td>NaN</td>\n",
       "      <td>+49 30 814547-100</td>\n",
       "      <td>...</td>\n",
       "      <td>NaN</td>\n",
       "      <td>IL</td>\n",
       "      <td>IC4</td>\n",
       "      <td>0</td>\n",
       "      <td>0</td>\n",
       "      <td>0</td>\n",
       "      <td>NaN</td>\n",
       "      <td>NaN</td>\n",
       "      <td>0</td>\n",
       "      <td>00000000556C6548</td>\n",
       "    </tr>\n",
       "    <tr>\n",
       "      <th>3</th>\n",
       "      <td>NaN</td>\n",
       "      <td>NaN</td>\n",
       "      <td>089 359 6183</td>\n",
       "      <td>NaN</td>\n",
       "      <td>NaN</td>\n",
       "      <td>NaN</td>\n",
       "      <td>K00006</td>\n",
       "      <td>20621</td>\n",
       "      <td>NaN</td>\n",
       "      <td>089 359 0031/32</td>\n",
       "      <td>...</td>\n",
       "      <td>NaN</td>\n",
       "      <td>IL</td>\n",
       "      <td>IL</td>\n",
       "      <td>0</td>\n",
       "      <td>0</td>\n",
       "      <td>0</td>\n",
       "      <td>NaN</td>\n",
       "      <td>NaN</td>\n",
       "      <td>0</td>\n",
       "      <td>0000000053C3DDF4</td>\n",
       "    </tr>\n",
       "    <tr>\n",
       "      <th>4</th>\n",
       "      <td>NaN</td>\n",
       "      <td>NaN</td>\n",
       "      <td>0041-61785-5188</td>\n",
       "      <td>NaN</td>\n",
       "      <td>NaN</td>\n",
       "      <td>NaN</td>\n",
       "      <td>K00010</td>\n",
       "      <td>NaN</td>\n",
       "      <td>NaN</td>\n",
       "      <td>0041-61785-5271</td>\n",
       "      <td>...</td>\n",
       "      <td>NaN</td>\n",
       "      <td>IL</td>\n",
       "      <td>AL</td>\n",
       "      <td>0</td>\n",
       "      <td>0</td>\n",
       "      <td>0</td>\n",
       "      <td>NaN</td>\n",
       "      <td>NaN</td>\n",
       "      <td>0</td>\n",
       "      <td>0000000053C3DDF9</td>\n",
       "    </tr>\n",
       "  </tbody>\n",
       "</table>\n",
       "<p>5 rows × 90 columns</p>\n",
       "</div>"
      ],
      "text/plain": [
       "   Creditor No_  Datev Account No_            Fax No_  Group Vendor No_  \\\n",
       "0           NaN                NaN                NaN               NaN   \n",
       "1           NaN                NaN                NaN               NaN   \n",
       "2           NaN                NaN  +49 30 814547-890               NaN   \n",
       "3           NaN                NaN       089 359 6183               NaN   \n",
       "4           NaN                NaN    0041-61785-5188               NaN   \n",
       "\n",
       "   ILN No_ No_ Series     No_ Our Account No_ Pay-to Vendor No_  \\\n",
       "0      NaN        NaN  K00001          D12638               NaN   \n",
       "1      NaN        NaN  K00002           18295            K03838   \n",
       "2      NaN        NaN  K00004          d12638               NaN   \n",
       "3      NaN        NaN  K00006           20621               NaN   \n",
       "4      NaN        NaN  K00010             NaN               NaN   \n",
       "\n",
       "           Phone No_  ... Territory Code VAT Bus_ Posting Group  \\\n",
       "0                NaN  ...            NaN                     IL   \n",
       "1     033764 2557 00  ...            NaN                     IL   \n",
       "2  +49 30 814547-100  ...            NaN                     IL   \n",
       "3    089 359 0031/32  ...            NaN                     IL   \n",
       "4    0041-61785-5271  ...            NaN                     IL   \n",
       "\n",
       "  Vendor Posting Group akq Allow Payment 3rd parties  akq DTAZV Charges Rule  \\\n",
       "0                  IC3                             0                       0   \n",
       "1                   IL                             0                       0   \n",
       "2                  IC4                             0                       0   \n",
       "3                   IL                             0                       0   \n",
       "4                   AL                             0                       0   \n",
       "\n",
       "   akq DTAZV Currency Instruction  akq Direction Code akq Payment Type  \\\n",
       "0                               0                 NaN              NaN   \n",
       "1                               0                 NaN              NaN   \n",
       "2                               0                 NaN              NaN   \n",
       "3                               0                 NaN              NaN   \n",
       "4                               0                 NaN              NaN   \n",
       "\n",
       "  akq Single Payment         timestamp  \n",
       "0                  0  00000000557853B0  \n",
       "1                  0  00000000594C7FBD  \n",
       "2                  0  00000000556C6548  \n",
       "3                  0  0000000053C3DDF4  \n",
       "4                  0  0000000053C3DDF9  \n",
       "\n",
       "[5 rows x 90 columns]"
      ]
     },
     "execution_count": 2,
     "metadata": {},
     "output_type": "execute_result"
    }
   ],
   "source": [
    "lieferanten = pd.read_csv(r'Lieferanten.csv', on_bad_lines='skip', sep=';')\n",
    "lieferanten.head()"
   ]
  },
  {
   "cell_type": "code",
   "execution_count": 3,
   "metadata": {},
   "outputs": [
    {
     "data": {
      "text/plain": [
       "(2411, 90)"
      ]
     },
     "execution_count": 3,
     "metadata": {},
     "output_type": "execute_result"
    }
   ],
   "source": [
    "lieferanten.shape"
   ]
  },
  {
   "cell_type": "code",
   "execution_count": 4,
   "metadata": {},
   "outputs": [
    {
     "data": {
      "text/plain": [
       "(2411, 71)"
      ]
     },
     "execution_count": 4,
     "metadata": {},
     "output_type": "execute_result"
    }
   ],
   "source": [
    "# drop columns where all NaN values\n",
    "lieferanten=lieferanten.dropna(axis=1, how='all')\n",
    "lieferanten.shape"
   ]
  },
  {
   "cell_type": "code",
   "execution_count": 5,
   "metadata": {},
   "outputs": [
    {
     "data": {
      "text/plain": [
       "(2411, 56)"
      ]
     },
     "execution_count": 5,
     "metadata": {},
     "output_type": "execute_result"
    }
   ],
   "source": [
    "# drop columns where all 0 values\n",
    "lieferanten=lieferanten.loc[:, (lieferanten != 0).any(axis=0)]\n",
    "lieferanten.shape"
   ]
  },
  {
   "cell_type": "code",
   "execution_count": 6,
   "metadata": {},
   "outputs": [
    {
     "data": {
      "text/plain": [
       "(2411, 39)"
      ]
     },
     "execution_count": 6,
     "metadata": {},
     "output_type": "execute_result"
    }
   ],
   "source": [
    "# drop columns where over 50% of values are null values\n",
    "lieferanten=lieferanten.loc[:, lieferanten.isnull().mean()<0.5]\n",
    "lieferanten.shape"
   ]
  },
  {
   "cell_type": "code",
   "execution_count": 7,
   "metadata": {},
   "outputs": [
    {
     "data": {
      "text/plain": [
       "['Fax No_',\n",
       " 'No_ Series',\n",
       " 'No_',\n",
       " 'Our Account No_',\n",
       " 'Phone No_',\n",
       " 'akq No_ of Entries Paym_ Adv_',\n",
       " 'Address',\n",
       " 'Base Calendar Code',\n",
       " 'Blocked',\n",
       " 'Budgeted Amount',\n",
       " 'City',\n",
       " 'Currency Id',\n",
       " 'Datev Export Date',\n",
       " 'E-Mail',\n",
       " 'Gen_ Bus_ Posting Group',\n",
       " 'Home Page',\n",
       " 'Id',\n",
       " 'Image',\n",
       " 'Invoice Disc_ Code',\n",
       " 'Last Date Modified',\n",
       " 'Last Modified Date Time',\n",
       " 'Location Code',\n",
       " 'Name',\n",
       " 'Partner Type',\n",
       " 'Payment Method Code',\n",
       " 'Payment Method Id',\n",
       " 'Payment Terms Code',\n",
       " 'Payment Terms Id',\n",
       " 'Post Code',\n",
       " 'Preferred Bank Account Code',\n",
       " 'Prepayment _',\n",
       " 'Privacy Blocked',\n",
       " 'Release Until',\n",
       " 'Search Name',\n",
       " 'Shipment Method Code',\n",
       " 'VAT Bus_ Posting Group',\n",
       " 'Vendor Posting Group',\n",
       " 'akq Single Payment',\n",
       " 'timestamp']"
      ]
     },
     "execution_count": 7,
     "metadata": {},
     "output_type": "execute_result"
    }
   ],
   "source": [
    "# get list with column names\n",
    "list(lieferanten.columns)"
   ]
  },
  {
   "cell_type": "code",
   "execution_count": 8,
   "metadata": {},
   "outputs": [],
   "source": [
    "# drop columns that don't seem relevant to our challenge\n",
    "to_drop=['Fax No_', 'No_ Series', 'Our Account No_', 'Phone No_', 'akq No_ of Entries Paym_ Adv_',\n",
    " 'Address', 'Base Calendar Code', 'Blocked', 'Budgeted Amount', 'Currency Id', 'Datev Export Date',\n",
    " 'E-Mail', 'Gen_ Bus_ Posting Group', 'Home Page', 'Image', 'Invoice Disc_ Code', 'Name', 'Partner Type',\n",
    " 'Payment Method Code', 'Payment Method Id', 'Payment Terms Code', 'Payment Terms Id', \n",
    " 'Preferred Bank Account Code', 'Prepayment _', 'Privacy Blocked', 'Release Until', 'VAT Bus_ Posting Group','akq Single Payment', 'timestamp',\n",
    " 'Last Modified Date Time', 'Id','Shipment Method Code','Vendor Posting Group']\n",
    "lieferanten.drop(to_drop, inplace=True, axis=1)"
   ]
  },
  {
   "cell_type": "code",
   "execution_count": 9,
   "metadata": {},
   "outputs": [
    {
     "data": {
      "text/html": [
       "<div>\n",
       "<style scoped>\n",
       "    .dataframe tbody tr th:only-of-type {\n",
       "        vertical-align: middle;\n",
       "    }\n",
       "\n",
       "    .dataframe tbody tr th {\n",
       "        vertical-align: top;\n",
       "    }\n",
       "\n",
       "    .dataframe thead th {\n",
       "        text-align: right;\n",
       "    }\n",
       "</style>\n",
       "<table border=\"1\" class=\"dataframe\">\n",
       "  <thead>\n",
       "    <tr style=\"text-align: right;\">\n",
       "      <th></th>\n",
       "      <th>No_</th>\n",
       "      <th>City</th>\n",
       "      <th>Last Date Modified</th>\n",
       "      <th>Location Code</th>\n",
       "      <th>Post Code</th>\n",
       "      <th>Search Name</th>\n",
       "    </tr>\n",
       "  </thead>\n",
       "  <tbody>\n",
       "    <tr>\n",
       "      <th>0</th>\n",
       "      <td>K00001</td>\n",
       "      <td>Berlin</td>\n",
       "      <td>17.09.2020 00:00:00</td>\n",
       "      <td>NaN</td>\n",
       "      <td>12487</td>\n",
       "      <td>DIMIDIA INDUSTRIE HOLDING GMBH</td>\n",
       "    </tr>\n",
       "    <tr>\n",
       "      <th>1</th>\n",
       "      <td>K00002</td>\n",
       "      <td>Mittenwalde</td>\n",
       "      <td>20.10.2021 00:00:00</td>\n",
       "      <td>A-01</td>\n",
       "      <td>15749</td>\n",
       "      <td>ALPHA/ LTE</td>\n",
       "    </tr>\n",
       "    <tr>\n",
       "      <th>2</th>\n",
       "      <td>K00004</td>\n",
       "      <td>Berlin</td>\n",
       "      <td>11.09.2020 00:00:00</td>\n",
       "      <td>NaN</td>\n",
       "      <td>12487</td>\n",
       "      <td>DIMIDIA IMMOBILIEN GMBH</td>\n",
       "    </tr>\n",
       "    <tr>\n",
       "      <th>3</th>\n",
       "      <td>K00006</td>\n",
       "      <td>München</td>\n",
       "      <td>21.02.2020 00:00:00</td>\n",
       "      <td>A-01</td>\n",
       "      <td>80807</td>\n",
       "      <td>STEFAN MAIER GMBH</td>\n",
       "    </tr>\n",
       "    <tr>\n",
       "      <th>4</th>\n",
       "      <td>K00010</td>\n",
       "      <td>Breitenbach</td>\n",
       "      <td>21.02.2020 00:00:00</td>\n",
       "      <td>A-01</td>\n",
       "      <td>CH-4226</td>\n",
       "      <td>#VON ROLL ISOLA TROISDORF</td>\n",
       "    </tr>\n",
       "  </tbody>\n",
       "</table>\n",
       "</div>"
      ],
      "text/plain": [
       "      No_         City   Last Date Modified Location Code Post Code  \\\n",
       "0  K00001       Berlin  17.09.2020 00:00:00           NaN     12487   \n",
       "1  K00002  Mittenwalde  20.10.2021 00:00:00          A-01     15749   \n",
       "2  K00004       Berlin  11.09.2020 00:00:00           NaN     12487   \n",
       "3  K00006      München  21.02.2020 00:00:00          A-01     80807   \n",
       "4  K00010  Breitenbach  21.02.2020 00:00:00          A-01   CH-4226   \n",
       "\n",
       "                      Search Name  \n",
       "0  DIMIDIA INDUSTRIE HOLDING GMBH  \n",
       "1                      ALPHA/ LTE  \n",
       "2         DIMIDIA IMMOBILIEN GMBH  \n",
       "3               STEFAN MAIER GMBH  \n",
       "4       #VON ROLL ISOLA TROISDORF  "
      ]
     },
     "execution_count": 9,
     "metadata": {},
     "output_type": "execute_result"
    }
   ],
   "source": [
    "lieferanten.head()"
   ]
  },
  {
   "cell_type": "code",
   "execution_count": 10,
   "metadata": {},
   "outputs": [
    {
     "data": {
      "text/plain": [
       "['lieferanten_no',\n",
       " 'city',\n",
       " 'last_date_modified',\n",
       " 'location_code',\n",
       " 'post_code',\n",
       " 'search_name']"
      ]
     },
     "execution_count": 10,
     "metadata": {},
     "output_type": "execute_result"
    }
   ],
   "source": [
    "lieferanten.columns = lieferanten.columns.str.replace(\" \", \"_\").str.lower()\n",
    "lieferanten=lieferanten.rename(columns={\"no_\": \"lieferanten_no\"})\n",
    "list(lieferanten.columns)"
   ]
  },
  {
   "cell_type": "code",
   "execution_count": 11,
   "metadata": {},
   "outputs": [
    {
     "data": {
      "text/plain": [
       "lieferanten_no                object\n",
       "city                          object\n",
       "last_date_modified    datetime64[ns]\n",
       "location_code                 object\n",
       "post_code                     object\n",
       "search_name                   object\n",
       "dtype: object"
      ]
     },
     "execution_count": 11,
     "metadata": {},
     "output_type": "execute_result"
    }
   ],
   "source": [
    "lieferanten.last_date_modified=pd.to_datetime(lieferanten.last_date_modified).dt.date\n",
    "lieferanten.last_date_modified=pd.to_datetime(lieferanten.last_date_modified)\n",
    "lieferanten.dtypes"
   ]
  },
  {
   "cell_type": "code",
   "execution_count": 12,
   "metadata": {},
   "outputs": [
    {
     "data": {
      "text/html": [
       "<div>\n",
       "<style scoped>\n",
       "    .dataframe tbody tr th:only-of-type {\n",
       "        vertical-align: middle;\n",
       "    }\n",
       "\n",
       "    .dataframe tbody tr th {\n",
       "        vertical-align: top;\n",
       "    }\n",
       "\n",
       "    .dataframe thead th {\n",
       "        text-align: right;\n",
       "    }\n",
       "</style>\n",
       "<table border=\"1\" class=\"dataframe\">\n",
       "  <thead>\n",
       "    <tr style=\"text-align: right;\">\n",
       "      <th></th>\n",
       "      <th>lieferanten_no</th>\n",
       "      <th>city</th>\n",
       "      <th>last_date_modified</th>\n",
       "      <th>location_code</th>\n",
       "      <th>post_code</th>\n",
       "      <th>search_name</th>\n",
       "    </tr>\n",
       "  </thead>\n",
       "  <tbody>\n",
       "    <tr>\n",
       "      <th>0</th>\n",
       "      <td>K00001</td>\n",
       "      <td>Berlin</td>\n",
       "      <td>2020-09-17</td>\n",
       "      <td>NaN</td>\n",
       "      <td>12487</td>\n",
       "      <td>DIMIDIA INDUSTRIE HOLDING GMBH</td>\n",
       "    </tr>\n",
       "    <tr>\n",
       "      <th>1</th>\n",
       "      <td>K00002</td>\n",
       "      <td>Mittenwalde</td>\n",
       "      <td>2021-10-20</td>\n",
       "      <td>A-01</td>\n",
       "      <td>15749</td>\n",
       "      <td>ALPHA/ LTE</td>\n",
       "    </tr>\n",
       "    <tr>\n",
       "      <th>2</th>\n",
       "      <td>K00004</td>\n",
       "      <td>Berlin</td>\n",
       "      <td>2020-11-09</td>\n",
       "      <td>NaN</td>\n",
       "      <td>12487</td>\n",
       "      <td>DIMIDIA IMMOBILIEN GMBH</td>\n",
       "    </tr>\n",
       "    <tr>\n",
       "      <th>3</th>\n",
       "      <td>K00006</td>\n",
       "      <td>München</td>\n",
       "      <td>2020-02-21</td>\n",
       "      <td>A-01</td>\n",
       "      <td>80807</td>\n",
       "      <td>STEFAN MAIER GMBH</td>\n",
       "    </tr>\n",
       "    <tr>\n",
       "      <th>4</th>\n",
       "      <td>K00010</td>\n",
       "      <td>Breitenbach</td>\n",
       "      <td>2020-02-21</td>\n",
       "      <td>A-01</td>\n",
       "      <td>CH-4226</td>\n",
       "      <td>#VON ROLL ISOLA TROISDORF</td>\n",
       "    </tr>\n",
       "  </tbody>\n",
       "</table>\n",
       "</div>"
      ],
      "text/plain": [
       "  lieferanten_no         city last_date_modified location_code post_code  \\\n",
       "0         K00001       Berlin         2020-09-17           NaN     12487   \n",
       "1         K00002  Mittenwalde         2021-10-20          A-01     15749   \n",
       "2         K00004       Berlin         2020-11-09           NaN     12487   \n",
       "3         K00006      München         2020-02-21          A-01     80807   \n",
       "4         K00010  Breitenbach         2020-02-21          A-01   CH-4226   \n",
       "\n",
       "                      search_name  \n",
       "0  DIMIDIA INDUSTRIE HOLDING GMBH  \n",
       "1                      ALPHA/ LTE  \n",
       "2         DIMIDIA IMMOBILIEN GMBH  \n",
       "3               STEFAN MAIER GMBH  \n",
       "4       #VON ROLL ISOLA TROISDORF  "
      ]
     },
     "execution_count": 12,
     "metadata": {},
     "output_type": "execute_result"
    }
   ],
   "source": [
    "lieferanten.head()"
   ]
  },
  {
   "cell_type": "code",
   "execution_count": 13,
   "metadata": {},
   "outputs": [
    {
     "data": {
      "text/plain": [
       "lieferanten_no          0\n",
       "city                   39\n",
       "last_date_modified      0\n",
       "location_code         569\n",
       "post_code              40\n",
       "search_name             0\n",
       "dtype: int64"
      ]
     },
     "execution_count": 13,
     "metadata": {},
     "output_type": "execute_result"
    }
   ],
   "source": [
    "lieferanten.isna().sum()"
   ]
  },
  {
   "cell_type": "code",
   "execution_count": 14,
   "metadata": {},
   "outputs": [
    {
     "data": {
      "text/plain": [
       "(1838, 6)"
      ]
     },
     "execution_count": 14,
     "metadata": {},
     "output_type": "execute_result"
    }
   ],
   "source": [
    "# drop rows with nan values\n",
    "lieferanten = lieferanten.dropna()\n",
    "lieferanten.shape"
   ]
  },
  {
   "cell_type": "code",
   "execution_count": 15,
   "metadata": {},
   "outputs": [
    {
     "data": {
      "text/plain": [
       "(1838, 6)"
      ]
     },
     "execution_count": 15,
     "metadata": {},
     "output_type": "execute_result"
    }
   ],
   "source": [
    "# drop duplicates\n",
    "lieferanten.drop_duplicates(keep='first')\n",
    "lieferanten.shape"
   ]
  },
  {
   "cell_type": "code",
   "execution_count": 16,
   "metadata": {},
   "outputs": [],
   "source": [
    "# export as csv file\n",
    "lieferanten.to_csv(r'lieferanten_clean.csv', index=False);"
   ]
  }
 ],
 "metadata": {
  "interpreter": {
   "hash": "b1875529cefe42ecd6a8c244c5d3382570dbd3583e24ee890d745390ff6ff538"
  },
  "kernelspec": {
   "display_name": "Python 3.9.7 ('base')",
   "language": "python",
   "name": "python3"
  },
  "language_info": {
   "codemirror_mode": {
    "name": "ipython",
    "version": 3
   },
   "file_extension": ".py",
   "mimetype": "text/x-python",
   "name": "python",
   "nbconvert_exporter": "python",
   "pygments_lexer": "ipython3",
   "version": "3.9.7"
  },
  "orig_nbformat": 4
 },
 "nbformat": 4,
 "nbformat_minor": 2
}
