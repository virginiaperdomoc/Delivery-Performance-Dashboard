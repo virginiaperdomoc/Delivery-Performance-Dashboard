{
 "cells": [
  {
   "cell_type": "code",
   "execution_count": 213,
   "metadata": {},
   "outputs": [],
   "source": [
    "import numpy as np\n",
    "import pandas as pd\n",
    "\n",
    "import calendar\n",
    "import datetime as dt\n",
    "from collections import Counter"
   ]
  },
  {
   "cell_type": "code",
   "execution_count": 214,
   "metadata": {},
   "outputs": [
    {
     "data": {
      "text/html": [
       "<div>\n",
       "<style scoped>\n",
       "    .dataframe tbody tr th:only-of-type {\n",
       "        vertical-align: middle;\n",
       "    }\n",
       "\n",
       "    .dataframe tbody tr th {\n",
       "        vertical-align: top;\n",
       "    }\n",
       "\n",
       "    .dataframe thead th {\n",
       "        text-align: right;\n",
       "    }\n",
       "</style>\n",
       "<table border=\"1\" class=\"dataframe\">\n",
       "  <thead>\n",
       "    <tr style=\"text-align: right;\">\n",
       "      <th></th>\n",
       "      <th>Attached to Line No_</th>\n",
       "      <th>Auto Charge Doc_ Line No_</th>\n",
       "      <th>Auto Charge Doc_ No_</th>\n",
       "      <th>Billing Entry No_</th>\n",
       "      <th>Billing Reference No_</th>\n",
       "      <th>Blanket Order Line No_</th>\n",
       "      <th>Blanket Order No_</th>\n",
       "      <th>Budgeted FA No_</th>\n",
       "      <th>Buy-from Vendor No_</th>\n",
       "      <th>Contract Line No_</th>\n",
       "      <th>...</th>\n",
       "      <th>VAT Base Amount</th>\n",
       "      <th>VAT Bus_ Posting Group</th>\n",
       "      <th>VAT Calculation Type</th>\n",
       "      <th>VAT Difference</th>\n",
       "      <th>VAT Identifier</th>\n",
       "      <th>VAT Prod_ Posting Group</th>\n",
       "      <th>VAT _</th>\n",
       "      <th>VDP Code</th>\n",
       "      <th>Variant Code</th>\n",
       "      <th>timestamp</th>\n",
       "    </tr>\n",
       "  </thead>\n",
       "  <tbody>\n",
       "    <tr>\n",
       "      <th>0</th>\n",
       "      <td>0</td>\n",
       "      <td>0</td>\n",
       "      <td>NaN</td>\n",
       "      <td>0</td>\n",
       "      <td>NaN</td>\n",
       "      <td>0</td>\n",
       "      <td>NaN</td>\n",
       "      <td>NaN</td>\n",
       "      <td>K04148</td>\n",
       "      <td>0</td>\n",
       "      <td>...</td>\n",
       "      <td>3950,00000000000000000000</td>\n",
       "      <td>IL</td>\n",
       "      <td>0</td>\n",
       "      <td>0,00000000000000000000</td>\n",
       "      <td>14.0</td>\n",
       "      <td>MWST19</td>\n",
       "      <td>19,00000000000000000000</td>\n",
       "      <td>NaN</td>\n",
       "      <td>NaN</td>\n",
       "      <td>0000000052ADF4C4</td>\n",
       "    </tr>\n",
       "    <tr>\n",
       "      <th>1</th>\n",
       "      <td>0</td>\n",
       "      <td>0</td>\n",
       "      <td>NaN</td>\n",
       "      <td>0</td>\n",
       "      <td>NaN</td>\n",
       "      <td>0</td>\n",
       "      <td>NaN</td>\n",
       "      <td>NaN</td>\n",
       "      <td>K04138</td>\n",
       "      <td>0</td>\n",
       "      <td>...</td>\n",
       "      <td>5650,61000000000000000000</td>\n",
       "      <td>EU</td>\n",
       "      <td>1</td>\n",
       "      <td>0,00000000000000000000</td>\n",
       "      <td>14.0</td>\n",
       "      <td>MWST19</td>\n",
       "      <td>0,00000000000000000000</td>\n",
       "      <td>NaN</td>\n",
       "      <td>NaN</td>\n",
       "      <td>00000000572F7357</td>\n",
       "    </tr>\n",
       "    <tr>\n",
       "      <th>2</th>\n",
       "      <td>0</td>\n",
       "      <td>0</td>\n",
       "      <td>NaN</td>\n",
       "      <td>0</td>\n",
       "      <td>NaN</td>\n",
       "      <td>0</td>\n",
       "      <td>NaN</td>\n",
       "      <td>NaN</td>\n",
       "      <td>K03105</td>\n",
       "      <td>0</td>\n",
       "      <td>...</td>\n",
       "      <td>62,40000000000000000000</td>\n",
       "      <td>IL</td>\n",
       "      <td>0</td>\n",
       "      <td>0,00000000000000000000</td>\n",
       "      <td>14.0</td>\n",
       "      <td>MWST19</td>\n",
       "      <td>19,00000000000000000000</td>\n",
       "      <td>NaN</td>\n",
       "      <td>NaN</td>\n",
       "      <td>00000000572F78DF</td>\n",
       "    </tr>\n",
       "    <tr>\n",
       "      <th>3</th>\n",
       "      <td>0</td>\n",
       "      <td>0</td>\n",
       "      <td>NaN</td>\n",
       "      <td>0</td>\n",
       "      <td>NaN</td>\n",
       "      <td>0</td>\n",
       "      <td>NaN</td>\n",
       "      <td>NaN</td>\n",
       "      <td>K02739</td>\n",
       "      <td>0</td>\n",
       "      <td>...</td>\n",
       "      <td>7496,60000000000000000000</td>\n",
       "      <td>IL</td>\n",
       "      <td>0</td>\n",
       "      <td>0,00000000000000000000</td>\n",
       "      <td>14.0</td>\n",
       "      <td>MWST19</td>\n",
       "      <td>19,00000000000000000000</td>\n",
       "      <td>NaN</td>\n",
       "      <td>NaN</td>\n",
       "      <td>0000000055C7E662</td>\n",
       "    </tr>\n",
       "    <tr>\n",
       "      <th>4</th>\n",
       "      <td>0</td>\n",
       "      <td>0</td>\n",
       "      <td>NaN</td>\n",
       "      <td>0</td>\n",
       "      <td>NaN</td>\n",
       "      <td>0</td>\n",
       "      <td>NaN</td>\n",
       "      <td>NaN</td>\n",
       "      <td>K02739</td>\n",
       "      <td>0</td>\n",
       "      <td>...</td>\n",
       "      <td>3567,73000000000000000000</td>\n",
       "      <td>IL</td>\n",
       "      <td>0</td>\n",
       "      <td>0,00000000000000000000</td>\n",
       "      <td>14.0</td>\n",
       "      <td>MWST19</td>\n",
       "      <td>19,00000000000000000000</td>\n",
       "      <td>NaN</td>\n",
       "      <td>NaN</td>\n",
       "      <td>0000000055C7E663</td>\n",
       "    </tr>\n",
       "  </tbody>\n",
       "</table>\n",
       "<p>5 rows × 249 columns</p>\n",
       "</div>"
      ],
      "text/plain": [
       "   Attached to Line No_  Auto Charge Doc_ Line No_  Auto Charge Doc_ No_  \\\n",
       "0                     0                          0                   NaN   \n",
       "1                     0                          0                   NaN   \n",
       "2                     0                          0                   NaN   \n",
       "3                     0                          0                   NaN   \n",
       "4                     0                          0                   NaN   \n",
       "\n",
       "   Billing Entry No_  Billing Reference No_  Blanket Order Line No_  \\\n",
       "0                  0                    NaN                       0   \n",
       "1                  0                    NaN                       0   \n",
       "2                  0                    NaN                       0   \n",
       "3                  0                    NaN                       0   \n",
       "4                  0                    NaN                       0   \n",
       "\n",
       "  Blanket Order No_  Budgeted FA No_ Buy-from Vendor No_  Contract Line No_  \\\n",
       "0               NaN              NaN              K04148                  0   \n",
       "1               NaN              NaN              K04138                  0   \n",
       "2               NaN              NaN              K03105                  0   \n",
       "3               NaN              NaN              K02739                  0   \n",
       "4               NaN              NaN              K02739                  0   \n",
       "\n",
       "   ...            VAT Base Amount VAT Bus_ Posting Group VAT Calculation Type  \\\n",
       "0  ...  3950,00000000000000000000                     IL                    0   \n",
       "1  ...  5650,61000000000000000000                     EU                    1   \n",
       "2  ...    62,40000000000000000000                     IL                    0   \n",
       "3  ...  7496,60000000000000000000                     IL                    0   \n",
       "4  ...  3567,73000000000000000000                     IL                    0   \n",
       "\n",
       "           VAT Difference VAT Identifier VAT Prod_ Posting Group  \\\n",
       "0  0,00000000000000000000           14.0                  MWST19   \n",
       "1  0,00000000000000000000           14.0                  MWST19   \n",
       "2  0,00000000000000000000           14.0                  MWST19   \n",
       "3  0,00000000000000000000           14.0                  MWST19   \n",
       "4  0,00000000000000000000           14.0                  MWST19   \n",
       "\n",
       "                     VAT _  VDP Code  Variant Code         timestamp  \n",
       "0  19,00000000000000000000       NaN           NaN  0000000052ADF4C4  \n",
       "1   0,00000000000000000000       NaN           NaN  00000000572F7357  \n",
       "2  19,00000000000000000000       NaN           NaN  00000000572F78DF  \n",
       "3  19,00000000000000000000       NaN           NaN  0000000055C7E662  \n",
       "4  19,00000000000000000000       NaN           NaN  0000000055C7E663  \n",
       "\n",
       "[5 rows x 249 columns]"
      ]
     },
     "execution_count": 214,
     "metadata": {},
     "output_type": "execute_result"
    }
   ],
   "source": [
    "purchases = pd.read_csv(r'Einkaufszeile.csv', on_bad_lines='skip', sep=';',low_memory=False)\n",
    "purchases.head()"
   ]
  },
  {
   "cell_type": "code",
   "execution_count": 215,
   "metadata": {},
   "outputs": [
    {
     "data": {
      "text/plain": [
       "(4416, 249)"
      ]
     },
     "execution_count": 215,
     "metadata": {},
     "output_type": "execute_result"
    }
   ],
   "source": [
    "purchases.shape"
   ]
  },
  {
   "cell_type": "code",
   "execution_count": 216,
   "metadata": {},
   "outputs": [
    {
     "data": {
      "text/plain": [
       "(4416, 197)"
      ]
     },
     "execution_count": 216,
     "metadata": {},
     "output_type": "execute_result"
    }
   ],
   "source": [
    "# drop columns where all NaN values\n",
    "purchases=purchases.dropna(axis=1, how='all')\n",
    "purchases.shape"
   ]
  },
  {
   "cell_type": "code",
   "execution_count": 217,
   "metadata": {},
   "outputs": [
    {
     "data": {
      "text/plain": [
       "(4416, 153)"
      ]
     },
     "execution_count": 217,
     "metadata": {},
     "output_type": "execute_result"
    }
   ],
   "source": [
    "# drop columns where all 0 values\n",
    "purchases=purchases.loc[:, (purchases != 0).any(axis=0)]\n",
    "purchases.shape"
   ]
  },
  {
   "cell_type": "code",
   "execution_count": 218,
   "metadata": {},
   "outputs": [
    {
     "data": {
      "text/plain": [
       "(4416, 141)"
      ]
     },
     "execution_count": 218,
     "metadata": {},
     "output_type": "execute_result"
    }
   ],
   "source": [
    "# drop columns where over 50% of values are null values\n",
    "purchases=purchases.loc[:, purchases.isnull().mean()<0.5]\n",
    "purchases.shape"
   ]
  },
  {
   "cell_type": "code",
   "execution_count": 219,
   "metadata": {},
   "outputs": [
    {
     "data": {
      "text/plain": [
       "['Blanket Order Line No_',\n",
       " 'Buy-from Vendor No_',\n",
       " 'Cross-Reference Type No_',\n",
       " 'Demand Query Line No_',\n",
       " 'Document No_',\n",
       " 'Line No_',\n",
       " 'No_',\n",
       " 'Pay-to Vendor No_',\n",
       " 'Pos_ No_',\n",
       " 'Prod_ Order Line No_',\n",
       " 'Routing Reference No_',\n",
       " 'A_ Rcd_ Not Inv_ Ex_ VAT (LCY)',\n",
       " 'Allow Invoice Disc_',\n",
       " 'Allow Item Charge Assignment',\n",
       " 'Amount Including VAT',\n",
       " 'Amount',\n",
       " 'Amt_ Rcd_ Not Invoiced (LCY)',\n",
       " 'Amt_ Rcd_ Not Invoiced',\n",
       " 'Bin Code',\n",
       " 'Blanket Order valid from',\n",
       " 'Blanket Order valid to',\n",
       " 'Completely Received',\n",
       " 'Contract Amount',\n",
       " 'Cross-Reference Type',\n",
       " 'Description 2',\n",
       " 'Description',\n",
       " 'Dimension Set ID',\n",
       " 'Direct Unit Cost Price Factor',\n",
       " 'Direct Unit Cost',\n",
       " 'Document Type',\n",
       " 'Expected Receipt Date',\n",
       " 'Expected Receipt Time',\n",
       " 'FA Posting Date',\n",
       " 'Fixed Quantity',\n",
       " 'Gen_ Bus_ Posting Group',\n",
       " 'Gen_ Prod_ Posting Group',\n",
       " 'Gross Weight',\n",
       " 'Indirect Cost _',\n",
       " 'Inv_ Disc_ Amount to Invoice',\n",
       " 'Inv_ Discount Amount',\n",
       " 'Invoice Quantity (Item Charge)',\n",
       " 'Item Category Code',\n",
       " 'Job Currency Factor',\n",
       " 'Job Line Amount (LCY)',\n",
       " 'Job Line Amount',\n",
       " 'Job Line Disc_ Amount (LCY)',\n",
       " 'Job Line Discount Amount',\n",
       " 'Job Line Discount _',\n",
       " 'Job Remaining Qty_ (Base)',\n",
       " 'Job Remaining Qty_',\n",
       " 'Job Total Price (LCY)',\n",
       " 'Job Total Price',\n",
       " 'Job Unit Price (LCY)',\n",
       " 'Job Unit Price',\n",
       " 'Lead Time Calculation',\n",
       " 'Line Amount',\n",
       " 'Line Discount Amount',\n",
       " 'Line Discount _',\n",
       " 'Location Code',\n",
       " 'Max Order Quantity',\n",
       " 'Min Order Quantity',\n",
       " 'Net Weight',\n",
       " 'Order Date',\n",
       " 'Order Quantity',\n",
       " 'Original Commission Quantity',\n",
       " 'Original Date',\n",
       " 'Outstanding Amount (LCY)',\n",
       " 'Outstanding Amount',\n",
       " 'Outstanding Amt_ Ex_ VAT (LCY)',\n",
       " 'Outstanding Qty_ (Base)',\n",
       " 'Outstanding Quantity',\n",
       " 'Overhead Rate',\n",
       " 'Pack Sample Quantity (Base)',\n",
       " 'Pack Sample Quantity',\n",
       " 'Planned Receipt Date',\n",
       " 'Planning Flexibility',\n",
       " 'Posting Group',\n",
       " 'Prepayment Amount',\n",
       " 'Prepayment VAT Difference',\n",
       " 'Prepayment VAT _',\n",
       " 'Prepayment _',\n",
       " 'Prepmt Amt Deducted',\n",
       " 'Prepmt Amt to Deduct',\n",
       " 'Prepmt VAT Diff_ Deducted',\n",
       " 'Prepmt VAT Diff_ to Deduct',\n",
       " 'Prepmt_ Amount Inv_ (LCY)',\n",
       " 'Prepmt_ Amount Inv_ Incl_ VAT',\n",
       " 'Prepmt_ Amt_ Incl_ VAT',\n",
       " 'Prepmt_ Amt_ Inv_',\n",
       " 'Prepmt_ Line Amount',\n",
       " 'Prepmt_ VAT Amount Inv_ (LCY)',\n",
       " 'Prepmt_ VAT Base Amt_',\n",
       " 'Price Factor',\n",
       " 'Profit _',\n",
       " 'Promised Receipt Date',\n",
       " 'Qty_ Invoiced (Base)',\n",
       " 'Qty_ Rcd_ Not Invoiced (Base)',\n",
       " 'Qty_ Rcd_ Not Invoiced',\n",
       " 'Qty_ Received (Base)',\n",
       " 'Qty_ per Unit of Measure',\n",
       " 'Qty_ to Invoice (Base)',\n",
       " 'Qty_ to Invoice',\n",
       " 'Qty_ to Receive (Base)',\n",
       " 'Qty_ to Receive',\n",
       " 'Quantity (Base)',\n",
       " 'Quantity Invoiced',\n",
       " 'Quantity Received',\n",
       " 'Quantity',\n",
       " 'Really Receipt DateTime',\n",
       " 'Recalculate Invoice Disc_',\n",
       " 'Requested Receipt Date',\n",
       " 'Ret_ Qty_ Shpd Not Invd_(Base)',\n",
       " 'Return Qty_ Shipped (Base)',\n",
       " 'Return Qty_ Shipped Not Invd_',\n",
       " 'Return Qty_ Shipped',\n",
       " 'Return Qty_ to Ship (Base)',\n",
       " 'Return Qty_ to Ship',\n",
       " 'Return Shpd_ Not Invd_ (LCY)',\n",
       " 'Return Shpd_ Not Invd_',\n",
       " 'Returns Deferral Start Date',\n",
       " 'Safety Lead Time',\n",
       " 'Salvage Value',\n",
       " 'Shortcut Dimension 1 Code',\n",
       " 'Shortcut Dimension 2 Code',\n",
       " 'Type',\n",
       " 'Unit Cost (LCY)',\n",
       " 'Unit Cost',\n",
       " 'Unit Price (LCY)',\n",
       " 'Unit Volume',\n",
       " 'Unit of Measure (Cross Ref_)',\n",
       " 'Unit of Measure Code',\n",
       " 'Unit of Measure',\n",
       " 'Units per Parcel',\n",
       " 'VAT Base Amount',\n",
       " 'VAT Bus_ Posting Group',\n",
       " 'VAT Calculation Type',\n",
       " 'VAT Difference',\n",
       " 'VAT Identifier',\n",
       " 'VAT Prod_ Posting Group',\n",
       " 'VAT _',\n",
       " 'timestamp']"
      ]
     },
     "execution_count": 219,
     "metadata": {},
     "output_type": "execute_result"
    }
   ],
   "source": [
    "# get list with column names\n",
    "list(purchases.columns)"
   ]
  },
  {
   "cell_type": "code",
   "execution_count": 220,
   "metadata": {},
   "outputs": [],
   "source": [
    "# drop columns that don't seem relevant to our challenge\n",
    "to_drop=['Blanket Order Line No_',  'Cross-Reference Type No_', 'Demand Query Line No_', 'Document No_', 'Line No_', 'Pay-to Vendor No_',\n",
    " 'Pos_ No_', 'Prod_ Order Line No_', 'Routing Reference No_', 'A_ Rcd_ Not Inv_ Ex_ VAT (LCY)', 'Allow Invoice Disc_', 'Allow Item Charge Assignment',\n",
    " 'Bin Code', 'Blanket Order valid from', 'Blanket Order valid to', 'Contract Amount', 'Cross-Reference Type', 'Description 2', 'Dimension Set ID', 'Direct Unit Cost Price Factor',\n",
    " 'Direct Unit Cost', 'Document Type', 'Fixed Quantity', 'Gen_ Bus_ Posting Group', 'Gen_ Prod_ Posting Group', 'Gross Weight', 'Indirect Cost _', 'Inv_ Disc_ Amount to Invoice',\n",
    " 'Inv_ Discount Amount', 'Job Currency Factor', 'Job Line Amount (LCY)', 'Job Line Amount', 'Job Line Disc_ Amount (LCY)', 'Job Line Discount Amount', 'Job Line Discount _',\n",
    " 'Job Remaining Qty_ (Base)', 'Job Remaining Qty_', 'Job Total Price (LCY)', 'Job Unit Price (LCY)', 'Job Unit Price', 'Line Amount', 'Line Discount Amount',\n",
    " 'Line Discount _', 'Max Order Quantity', 'Min Order Quantity', 'Net Weight', 'Outstanding Amount (LCY)', 'Outstanding Amount', 'Outstanding Amt_ Ex_ VAT (LCY)',\n",
    " 'Outstanding Qty_ (Base)', 'Outstanding Quantity', 'Overhead Rate', 'Pack Sample Quantity (Base)', 'Pack Sample Quantity', 'Planned Receipt Date',\n",
    " 'Planning Flexibility', 'Posting Group', 'Prepayment Amount', 'Prepayment VAT Difference', 'Prepayment VAT _', 'Prepayment _', 'Prepmt Amt Deducted',\n",
    " 'Prepmt Amt to Deduct', 'Prepmt VAT Diff_ Deducted', 'Prepmt VAT Diff_ to Deduct', 'Prepmt_ Amount Inv_ (LCY)', 'Prepmt_ Amount Inv_ Incl_ VAT',\n",
    " 'Prepmt_ Amt_ Incl_ VAT', 'Prepmt_ Amt_ Inv_', 'Prepmt_ Line Amount', 'Prepmt_ VAT Amount Inv_ (LCY)', 'Prepmt_ VAT Base Amt_', 'Price Factor',\n",
    " 'Profit _', 'Promised Receipt Date', 'Recalculate Invoice Disc_', 'Ret_ Qty_ Shpd Not Invd_(Base)', 'Return Qty_ Shipped (Base)',\n",
    " 'Return Qty_ Shipped Not Invd_', 'Return Qty_ Shipped', 'Return Qty_ to Ship (Base)', 'Return Qty_ to Ship', 'Return Shpd_ Not Invd_ (LCY)',\n",
    " 'Return Shpd_ Not Invd_', 'Returns Deferral Start Date', 'Safety Lead Time', 'Salvage Value', 'Shortcut Dimension 1 Code', 'Shortcut Dimension 2 Code',\n",
    " 'Unit Cost (LCY)', 'Unit Price (LCY)', 'Unit Volume', 'Unit of Measure (Cross Ref_)', 'Unit of Measure Code', 'Unit of Measure', 'Units per Parcel',\n",
    " 'VAT Base Amount', 'VAT Bus_ Posting Group', 'VAT Calculation Type', 'VAT Difference', 'VAT Identifier', 'VAT Prod_ Posting Group', 'VAT _', 'timestamp',\n",
    "'Amt_ Rcd_ Not Invoiced (LCY)', 'Amt_ Rcd_ Not Invoiced','FA Posting Date','Qty_ to Receive (Base)','Quantity (Base)','Unit Cost','Description',\n",
    " 'Lead Time Calculation', 'Expected Receipt Time','Original Commission Quantity','Qty_ Invoiced (Base)', 'Qty_ Rcd_ Not Invoiced (Base)','Qty_ Rcd_ Not Invoiced',\n",
    " 'Qty_ Received (Base)', 'Qty_ per Unit of Measure', 'Qty_ to Invoice (Base)', 'Qty_ to Invoice', 'Qty_ to Receive','Item Category Code','Invoice Quantity (Item Charge)',\n",
    " 'Job Total Price','Order Quantity','Original Date','Completely Received','Type','Expected Receipt Date','Amount Including VAT']\n",
    "purchases.drop(to_drop, inplace=True, axis=1)"
   ]
  },
  {
   "cell_type": "code",
   "execution_count": 221,
   "metadata": {},
   "outputs": [
    {
     "data": {
      "text/html": [
       "<div>\n",
       "<style scoped>\n",
       "    .dataframe tbody tr th:only-of-type {\n",
       "        vertical-align: middle;\n",
       "    }\n",
       "\n",
       "    .dataframe tbody tr th {\n",
       "        vertical-align: top;\n",
       "    }\n",
       "\n",
       "    .dataframe thead th {\n",
       "        text-align: right;\n",
       "    }\n",
       "</style>\n",
       "<table border=\"1\" class=\"dataframe\">\n",
       "  <thead>\n",
       "    <tr style=\"text-align: right;\">\n",
       "      <th></th>\n",
       "      <th>Buy-from Vendor No_</th>\n",
       "      <th>No_</th>\n",
       "      <th>Amount</th>\n",
       "      <th>Location Code</th>\n",
       "      <th>Order Date</th>\n",
       "      <th>Quantity Invoiced</th>\n",
       "      <th>Quantity Received</th>\n",
       "      <th>Quantity</th>\n",
       "      <th>Really Receipt DateTime</th>\n",
       "      <th>Requested Receipt Date</th>\n",
       "    </tr>\n",
       "  </thead>\n",
       "  <tbody>\n",
       "    <tr>\n",
       "      <th>0</th>\n",
       "      <td>K04148</td>\n",
       "      <td>HD00034020</td>\n",
       "      <td>3950,00000000000000000000</td>\n",
       "      <td>B-01</td>\n",
       "      <td>25.04.2018 00:00:00</td>\n",
       "      <td>250,00000000000000000000</td>\n",
       "      <td>250,00000000000000000000</td>\n",
       "      <td>250,00000000000000000000</td>\n",
       "      <td>01.01.1753 00:00:00</td>\n",
       "      <td>11.01.2019 00:00:00</td>\n",
       "    </tr>\n",
       "    <tr>\n",
       "      <th>1</th>\n",
       "      <td>K04138</td>\n",
       "      <td>WA00497656</td>\n",
       "      <td>5650,61000000000000000000</td>\n",
       "      <td>B-01</td>\n",
       "      <td>21.08.2018 00:00:00</td>\n",
       "      <td>1218,00000000000000000000</td>\n",
       "      <td>1218,00000000000000000000</td>\n",
       "      <td>1218,00000000000000000000</td>\n",
       "      <td>01.01.1753 00:00:00</td>\n",
       "      <td>28.02.2019 00:00:00</td>\n",
       "    </tr>\n",
       "    <tr>\n",
       "      <th>2</th>\n",
       "      <td>K03105</td>\n",
       "      <td>MV00300385</td>\n",
       "      <td>62,40000000000000000000</td>\n",
       "      <td>B-01</td>\n",
       "      <td>19.10.2018 00:00:00</td>\n",
       "      <td>1000,00000000000000000000</td>\n",
       "      <td>1000,00000000000000000000</td>\n",
       "      <td>1000,00000000000000000000</td>\n",
       "      <td>01.01.1753 00:00:00</td>\n",
       "      <td>29.11.2018 00:00:00</td>\n",
       "    </tr>\n",
       "    <tr>\n",
       "      <th>3</th>\n",
       "      <td>K02739</td>\n",
       "      <td>17000162</td>\n",
       "      <td>7496,60000000000000000000</td>\n",
       "      <td>B-01</td>\n",
       "      <td>05.06.2019 00:00:00</td>\n",
       "      <td>2000,00000000000000000000</td>\n",
       "      <td>2000,00000000000000000000</td>\n",
       "      <td>2000,00000000000000000000</td>\n",
       "      <td>01.01.1753 00:00:00</td>\n",
       "      <td>29.11.2019 00:00:00</td>\n",
       "    </tr>\n",
       "    <tr>\n",
       "      <th>4</th>\n",
       "      <td>K02739</td>\n",
       "      <td>17000162</td>\n",
       "      <td>3567,73000000000000000000</td>\n",
       "      <td>B-01</td>\n",
       "      <td>05.06.2019 00:00:00</td>\n",
       "      <td>904,00000000000000000000</td>\n",
       "      <td>904,00000000000000000000</td>\n",
       "      <td>904,00000000000000000000</td>\n",
       "      <td>01.01.1753 00:00:00</td>\n",
       "      <td>10.01.2020 00:00:00</td>\n",
       "    </tr>\n",
       "  </tbody>\n",
       "</table>\n",
       "</div>"
      ],
      "text/plain": [
       "  Buy-from Vendor No_         No_                     Amount Location Code  \\\n",
       "0              K04148  HD00034020  3950,00000000000000000000          B-01   \n",
       "1              K04138  WA00497656  5650,61000000000000000000          B-01   \n",
       "2              K03105  MV00300385    62,40000000000000000000          B-01   \n",
       "3              K02739    17000162  7496,60000000000000000000          B-01   \n",
       "4              K02739    17000162  3567,73000000000000000000          B-01   \n",
       "\n",
       "            Order Date          Quantity Invoiced          Quantity Received  \\\n",
       "0  25.04.2018 00:00:00   250,00000000000000000000   250,00000000000000000000   \n",
       "1  21.08.2018 00:00:00  1218,00000000000000000000  1218,00000000000000000000   \n",
       "2  19.10.2018 00:00:00  1000,00000000000000000000  1000,00000000000000000000   \n",
       "3  05.06.2019 00:00:00  2000,00000000000000000000  2000,00000000000000000000   \n",
       "4  05.06.2019 00:00:00   904,00000000000000000000   904,00000000000000000000   \n",
       "\n",
       "                    Quantity Really Receipt DateTime Requested Receipt Date  \n",
       "0   250,00000000000000000000     01.01.1753 00:00:00    11.01.2019 00:00:00  \n",
       "1  1218,00000000000000000000     01.01.1753 00:00:00    28.02.2019 00:00:00  \n",
       "2  1000,00000000000000000000     01.01.1753 00:00:00    29.11.2018 00:00:00  \n",
       "3  2000,00000000000000000000     01.01.1753 00:00:00    29.11.2019 00:00:00  \n",
       "4   904,00000000000000000000     01.01.1753 00:00:00    10.01.2020 00:00:00  "
      ]
     },
     "execution_count": 221,
     "metadata": {},
     "output_type": "execute_result"
    }
   ],
   "source": [
    "purchases.head()"
   ]
  },
  {
   "cell_type": "code",
   "execution_count": 222,
   "metadata": {},
   "outputs": [
    {
     "data": {
      "text/plain": [
       "['Buy-from Vendor No_',\n",
       " 'No_',\n",
       " 'Amount',\n",
       " 'Location Code',\n",
       " 'Order Date',\n",
       " 'Quantity Invoiced',\n",
       " 'Quantity Received',\n",
       " 'Quantity',\n",
       " 'Really Receipt DateTime',\n",
       " 'Requested Receipt Date']"
      ]
     },
     "execution_count": 222,
     "metadata": {},
     "output_type": "execute_result"
    }
   ],
   "source": [
    "list(purchases.columns)"
   ]
  },
  {
   "cell_type": "code",
   "execution_count": 223,
   "metadata": {},
   "outputs": [
    {
     "data": {
      "text/plain": [
       "['vendor_no',\n",
       " 'purchase_no',\n",
       " 'amount',\n",
       " 'location_code',\n",
       " 'order_date',\n",
       " 'qty_invoiced',\n",
       " 'qty_received',\n",
       " 'qty',\n",
       " 'receipt_date',\n",
       " 'requested_date']"
      ]
     },
     "execution_count": 223,
     "metadata": {},
     "output_type": "execute_result"
    }
   ],
   "source": [
    "# make feature names consistent\n",
    "purchases.columns = purchases.columns.str.replace(\" \", \"_\").str.lower()\n",
    "purchases=purchases.rename(columns={'buy-from_vendor_no_':'vendor_no',\"no_\": \"purchase_no\", 'quantity_invoiced':'qty_invoiced','quantity_received':'qty_received',\n",
    "'quantity':'qty','really_receipt_datetime':'receipt_date','requested_receipt_date':'requested_date'})\n",
    "list(purchases.columns)"
   ]
  },
  {
   "cell_type": "code",
   "execution_count": 224,
   "metadata": {},
   "outputs": [
    {
     "data": {
      "text/html": [
       "<div>\n",
       "<style scoped>\n",
       "    .dataframe tbody tr th:only-of-type {\n",
       "        vertical-align: middle;\n",
       "    }\n",
       "\n",
       "    .dataframe tbody tr th {\n",
       "        vertical-align: top;\n",
       "    }\n",
       "\n",
       "    .dataframe thead th {\n",
       "        text-align: right;\n",
       "    }\n",
       "</style>\n",
       "<table border=\"1\" class=\"dataframe\">\n",
       "  <thead>\n",
       "    <tr style=\"text-align: right;\">\n",
       "      <th></th>\n",
       "      <th>vendor_no</th>\n",
       "      <th>purchase_no</th>\n",
       "      <th>amount</th>\n",
       "      <th>location_code</th>\n",
       "      <th>order_date</th>\n",
       "      <th>qty_invoiced</th>\n",
       "      <th>qty_received</th>\n",
       "      <th>qty</th>\n",
       "      <th>receipt_date</th>\n",
       "      <th>requested_date</th>\n",
       "    </tr>\n",
       "  </thead>\n",
       "  <tbody>\n",
       "    <tr>\n",
       "      <th>0</th>\n",
       "      <td>K04148</td>\n",
       "      <td>HD00034020</td>\n",
       "      <td>3950,00</td>\n",
       "      <td>B-01</td>\n",
       "      <td>25.04.2018</td>\n",
       "      <td>250</td>\n",
       "      <td>250</td>\n",
       "      <td>250</td>\n",
       "      <td>01.01.1753</td>\n",
       "      <td>11.01.2019</td>\n",
       "    </tr>\n",
       "    <tr>\n",
       "      <th>1</th>\n",
       "      <td>K04138</td>\n",
       "      <td>WA00497656</td>\n",
       "      <td>5650,61</td>\n",
       "      <td>B-01</td>\n",
       "      <td>21.08.2018</td>\n",
       "      <td>1218</td>\n",
       "      <td>1218</td>\n",
       "      <td>1218</td>\n",
       "      <td>01.01.1753</td>\n",
       "      <td>28.02.2019</td>\n",
       "    </tr>\n",
       "    <tr>\n",
       "      <th>2</th>\n",
       "      <td>K03105</td>\n",
       "      <td>MV00300385</td>\n",
       "      <td>62,40</td>\n",
       "      <td>B-01</td>\n",
       "      <td>19.10.2018</td>\n",
       "      <td>1000</td>\n",
       "      <td>1000</td>\n",
       "      <td>1000</td>\n",
       "      <td>01.01.1753</td>\n",
       "      <td>29.11.2018</td>\n",
       "    </tr>\n",
       "  </tbody>\n",
       "</table>\n",
       "</div>"
      ],
      "text/plain": [
       "  vendor_no purchase_no   amount location_code  order_date qty_invoiced  \\\n",
       "0    K04148  HD00034020  3950,00          B-01  25.04.2018          250   \n",
       "1    K04138  WA00497656  5650,61          B-01  21.08.2018         1218   \n",
       "2    K03105  MV00300385    62,40          B-01  19.10.2018         1000   \n",
       "\n",
       "  qty_received   qty receipt_date requested_date  \n",
       "0          250   250   01.01.1753     11.01.2019  \n",
       "1         1218  1218   01.01.1753     28.02.2019  \n",
       "2         1000  1000   01.01.1753     29.11.2018  "
      ]
     },
     "execution_count": 224,
     "metadata": {},
     "output_type": "execute_result"
    }
   ],
   "source": [
    "# drop unnecessary characters to enable typecasting\n",
    "purchases.order_date = purchases.order_date.map(lambda x: str(x)[:-9])\n",
    "purchases.receipt_date = purchases.receipt_date.map(lambda x: str(x)[:-9])\n",
    "purchases.requested_date = purchases.requested_date.map(lambda x: str(x)[:-9])\n",
    "purchases.amount = purchases.amount.map(lambda x: str(x)[:-18])\n",
    "purchases.qty_invoiced = purchases.qty_invoiced.map(lambda x: str(x)[:-21])\n",
    "purchases.qty_received = purchases.qty_received.map(lambda x: str(x)[:-21])\n",
    "purchases.qty = purchases.qty.map(lambda x: str(x)[:-21])\n",
    "\n",
    "purchases.head(3)"
   ]
  },
  {
   "cell_type": "code",
   "execution_count": 225,
   "metadata": {},
   "outputs": [
    {
     "data": {
      "text/plain": [
       "vendor_no         object\n",
       "purchase_no       object\n",
       "amount            object\n",
       "location_code     object\n",
       "order_date        object\n",
       "qty_invoiced      object\n",
       "qty_received      object\n",
       "qty               object\n",
       "receipt_date      object\n",
       "requested_date    object\n",
       "dtype: object"
      ]
     },
     "execution_count": 225,
     "metadata": {},
     "output_type": "execute_result"
    }
   ],
   "source": [
    "purchases.dtypes"
   ]
  },
  {
   "cell_type": "code",
   "execution_count": 226,
   "metadata": {},
   "outputs": [
    {
     "data": {
      "text/plain": [
       "(4416, 10)"
      ]
     },
     "execution_count": 226,
     "metadata": {},
     "output_type": "execute_result"
    }
   ],
   "source": [
    "purchases.shape"
   ]
  },
  {
   "cell_type": "code",
   "execution_count": 227,
   "metadata": {},
   "outputs": [
    {
     "data": {
      "text/plain": [
       "(3549, 10)"
      ]
     },
     "execution_count": 227,
     "metadata": {},
     "output_type": "execute_result"
    }
   ],
   "source": [
    "# Dates in the really_receipt_datetime columns with a value of 1753-01-01 mean the field is blank or there's been an error in the input.\n",
    "# we will filter out these rows (1,236 from 6012)\n",
    "purchases = purchases[purchases['order_date']!= '01.01.1753']\n",
    "purchases = purchases[purchases['receipt_date']!= '01.01.1753']\n",
    "purchases = purchases[purchases['requested_date']!= '01.01.1753']\n",
    "purchases.shape"
   ]
  },
  {
   "cell_type": "code",
   "execution_count": 228,
   "metadata": {},
   "outputs": [
    {
     "data": {
      "text/html": [
       "<div>\n",
       "<style scoped>\n",
       "    .dataframe tbody tr th:only-of-type {\n",
       "        vertical-align: middle;\n",
       "    }\n",
       "\n",
       "    .dataframe tbody tr th {\n",
       "        vertical-align: top;\n",
       "    }\n",
       "\n",
       "    .dataframe thead th {\n",
       "        text-align: right;\n",
       "    }\n",
       "</style>\n",
       "<table border=\"1\" class=\"dataframe\">\n",
       "  <thead>\n",
       "    <tr style=\"text-align: right;\">\n",
       "      <th></th>\n",
       "      <th>vendor_no</th>\n",
       "      <th>purchase_no</th>\n",
       "      <th>amount</th>\n",
       "      <th>location_code</th>\n",
       "      <th>order_date</th>\n",
       "      <th>qty_invoiced</th>\n",
       "      <th>qty_received</th>\n",
       "      <th>qty</th>\n",
       "      <th>receipt_date</th>\n",
       "      <th>requested_date</th>\n",
       "    </tr>\n",
       "  </thead>\n",
       "  <tbody>\n",
       "    <tr>\n",
       "      <th>18</th>\n",
       "      <td>K04149</td>\n",
       "      <td>MS00203015</td>\n",
       "      <td>9460.13</td>\n",
       "      <td>B-01</td>\n",
       "      <td>02.07.2020</td>\n",
       "      <td>1250</td>\n",
       "      <td>1250</td>\n",
       "      <td>1250</td>\n",
       "      <td>22.07.2021</td>\n",
       "      <td>10.09.2020</td>\n",
       "    </tr>\n",
       "    <tr>\n",
       "      <th>19</th>\n",
       "      <td>K04149</td>\n",
       "      <td>MS00203015</td>\n",
       "      <td>9460.13</td>\n",
       "      <td>B-01</td>\n",
       "      <td>24.09.2019</td>\n",
       "      <td>1250</td>\n",
       "      <td>1250</td>\n",
       "      <td>1250</td>\n",
       "      <td>22.07.2021</td>\n",
       "      <td>15.03.2021</td>\n",
       "    </tr>\n",
       "    <tr>\n",
       "      <th>20</th>\n",
       "      <td>K04149</td>\n",
       "      <td>DA00114007</td>\n",
       "      <td>8247.23</td>\n",
       "      <td>B-01</td>\n",
       "      <td>06.08.2021</td>\n",
       "      <td>2415</td>\n",
       "      <td>2415</td>\n",
       "      <td>2415</td>\n",
       "      <td>22.07.2021</td>\n",
       "      <td>06.08.2021</td>\n",
       "    </tr>\n",
       "    <tr>\n",
       "      <th>28</th>\n",
       "      <td>K04797</td>\n",
       "      <td>RA00000360</td>\n",
       "      <td>83.50</td>\n",
       "      <td>A-01</td>\n",
       "      <td>08.10.2019</td>\n",
       "      <td>5000</td>\n",
       "      <td>5000</td>\n",
       "      <td>5000</td>\n",
       "      <td>14.01.2020</td>\n",
       "      <td>28.10.2019</td>\n",
       "    </tr>\n",
       "    <tr>\n",
       "      <th>29</th>\n",
       "      <td>K04797</td>\n",
       "      <td>RA00000370</td>\n",
       "      <td>51.75</td>\n",
       "      <td>A-01</td>\n",
       "      <td>08.10.2019</td>\n",
       "      <td>1500</td>\n",
       "      <td>1500</td>\n",
       "      <td>1500</td>\n",
       "      <td>14.01.2020</td>\n",
       "      <td>28.10.2019</td>\n",
       "    </tr>\n",
       "  </tbody>\n",
       "</table>\n",
       "</div>"
      ],
      "text/plain": [
       "   vendor_no purchase_no   amount location_code  order_date qty_invoiced  \\\n",
       "18    K04149  MS00203015  9460.13          B-01  02.07.2020         1250   \n",
       "19    K04149  MS00203015  9460.13          B-01  24.09.2019         1250   \n",
       "20    K04149  DA00114007  8247.23          B-01  06.08.2021         2415   \n",
       "28    K04797  RA00000360    83.50          A-01  08.10.2019         5000   \n",
       "29    K04797  RA00000370    51.75          A-01  08.10.2019         1500   \n",
       "\n",
       "   qty_received   qty receipt_date requested_date  \n",
       "18         1250  1250   22.07.2021     10.09.2020  \n",
       "19         1250  1250   22.07.2021     15.03.2021  \n",
       "20         2415  2415   22.07.2021     06.08.2021  \n",
       "28         5000  5000   14.01.2020     28.10.2019  \n",
       "29         1500  1500   14.01.2020     28.10.2019  "
      ]
     },
     "execution_count": 228,
     "metadata": {},
     "output_type": "execute_result"
    }
   ],
   "source": [
    "# replace the commas for dots so we can typecast to float\n",
    "purchases.amount = purchases.amount.str.replace(\",\", \".\").str.lower()\n",
    "purchases.head()"
   ]
  },
  {
   "cell_type": "code",
   "execution_count": 230,
   "metadata": {},
   "outputs": [
    {
     "data": {
      "text/plain": [
       "vendor_no                 object\n",
       "purchase_no               object\n",
       "amount                   float64\n",
       "location_code             object\n",
       "order_date        datetime64[ns]\n",
       "qty_invoiced               int64\n",
       "qty_received               int64\n",
       "qty                        int64\n",
       "receipt_date      datetime64[ns]\n",
       "requested_date    datetime64[ns]\n",
       "dtype: object"
      ]
     },
     "execution_count": 230,
     "metadata": {},
     "output_type": "execute_result"
    }
   ],
   "source": [
    "# typecast\n",
    "purchases = purchases.astype({'order_date': 'datetime64','receipt_date': 'datetime64', 'requested_date': 'datetime64',\n",
    "'amount': 'float64','qty_invoiced': 'int64', 'qty_received': 'int64','qty': 'int64'})\n",
    "purchases.dtypes"
   ]
  },
  {
   "cell_type": "code",
   "execution_count": 231,
   "metadata": {},
   "outputs": [
    {
     "data": {
      "text/plain": [
       "(3549, 10)"
      ]
     },
     "execution_count": 231,
     "metadata": {},
     "output_type": "execute_result"
    }
   ],
   "source": [
    "purchases.shape"
   ]
  },
  {
   "cell_type": "code",
   "execution_count": 232,
   "metadata": {},
   "outputs": [
    {
     "data": {
      "text/plain": [
       "(3549, 10)"
      ]
     },
     "execution_count": 232,
     "metadata": {},
     "output_type": "execute_result"
    }
   ],
   "source": [
    "# chck and drop duplicates\n",
    "purchases.drop_duplicates(keep='first')\n",
    "purchases.shape"
   ]
  },
  {
   "cell_type": "code",
   "execution_count": 233,
   "metadata": {},
   "outputs": [
    {
     "data": {
      "text/plain": [
       "vendor_no         0\n",
       "purchase_no       0\n",
       "amount            0\n",
       "location_code     0\n",
       "order_date        0\n",
       "qty_invoiced      0\n",
       "qty_received      0\n",
       "qty               0\n",
       "receipt_date      0\n",
       "requested_date    0\n",
       "dtype: int64"
      ]
     },
     "execution_count": 233,
     "metadata": {},
     "output_type": "execute_result"
    }
   ],
   "source": [
    "# check for null values\n",
    "purchases.isna().sum()"
   ]
  },
  {
   "cell_type": "code",
   "execution_count": 234,
   "metadata": {},
   "outputs": [],
   "source": [
    "# export as csv file\n",
    "purchases.to_csv(r'purchases_clean.csv', index=False);"
   ]
  }
 ],
 "metadata": {
  "interpreter": {
   "hash": "b1875529cefe42ecd6a8c244c5d3382570dbd3583e24ee890d745390ff6ff538"
  },
  "kernelspec": {
   "display_name": "Python 3.9.7 ('base')",
   "language": "python",
   "name": "python3"
  },
  "language_info": {
   "codemirror_mode": {
    "name": "ipython",
    "version": 3
   },
   "file_extension": ".py",
   "mimetype": "text/x-python",
   "name": "python",
   "nbconvert_exporter": "python",
   "pygments_lexer": "ipython3",
   "version": "3.9.7"
  },
  "orig_nbformat": 4
 },
 "nbformat": 4,
 "nbformat_minor": 2
}
